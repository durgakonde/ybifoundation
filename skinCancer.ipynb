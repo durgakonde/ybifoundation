{
  "nbformat": 4,
  "nbformat_minor": 0,
  "metadata": {
    "colab": {
      "provenance": []
    },
    "kernelspec": {
      "name": "python3",
      "display_name": "Python 3"
    },
    "language_info": {
      "name": "python"
    },
    "accelerator": "GPU",
    "gpuClass": "standard"
  },
  "cells": [
    {
      "cell_type": "code",
      "source": [
        "\n",
        "\n",
        "Replace 'DATASET_OWNER' and 'DATASET_NAME' with the appropriate values for the dataset you want to download.\n",
        "\n",
        "Then you can unzip the dataset and load it into your notebook using the standard python libraries like\n",
        "\n",
        "\n",
        "------------------------------------------------------------\n",
        "with zipfile.ZipFile('DATASET_NAME.zip', 'r') as zip_ref:\n",
        "    zip_ref.extractall()\n",
        "------------------------------------------------------------\n",
        "\n",
        "\n",
        "You can load the unzipped dataset using the pandas or other library.\n",
        "\n",
        "\n",
        "\"\"\""
      ],
      "metadata": {
        "id": "DmxhsoLckb0Q"
      },
      "execution_count": null,
      "outputs": []
    },
    {
      "cell_type": "code",
      "source": [
        "# !pip install kaggle\n",
        "# import json\n",
        "# import zipfile\n",
        "# import os"
      ],
      "metadata": {
        "colab": {
          "base_uri": "https://localhost:8080/"
        },
        "id": "dQMp0qGPkbcw",
        "outputId": "ffdb133b-801d-4ed6-ff2c-3fce9a3fa75e"
      },
      "execution_count": null,
      "outputs": [
        {
          "output_type": "stream",
          "name": "stdout",
          "text": [
            "Looking in indexes: https://pypi.org/simple, https://us-python.pkg.dev/colab-wheels/public/simple/\n",
            "Requirement already satisfied: kaggle in /usr/local/lib/python3.8/dist-packages (1.5.12)\n",
            "Requirement already satisfied: six>=1.10 in /usr/local/lib/python3.8/dist-packages (from kaggle) (1.15.0)\n",
            "Requirement already satisfied: python-slugify in /usr/local/lib/python3.8/dist-packages (from kaggle) (7.0.0)\n",
            "Requirement already satisfied: certifi in /usr/local/lib/python3.8/dist-packages (from kaggle) (2022.12.7)\n",
            "Requirement already satisfied: urllib3 in /usr/local/lib/python3.8/dist-packages (from kaggle) (1.24.3)\n",
            "Requirement already satisfied: python-dateutil in /usr/local/lib/python3.8/dist-packages (from kaggle) (2.8.2)\n",
            "Requirement already satisfied: tqdm in /usr/local/lib/python3.8/dist-packages (from kaggle) (4.64.1)\n",
            "Requirement already satisfied: requests in /usr/local/lib/python3.8/dist-packages (from kaggle) (2.25.1)\n",
            "Requirement already satisfied: text-unidecode>=1.3 in /usr/local/lib/python3.8/dist-packages (from python-slugify->kaggle) (1.3)\n",
            "Requirement already satisfied: idna<3,>=2.5 in /usr/local/lib/python3.8/dist-packages (from requests->kaggle) (2.10)\n",
            "Requirement already satisfied: chardet<5,>=3.0.2 in /usr/local/lib/python3.8/dist-packages (from requests->kaggle) (4.0.0)\n"
          ]
        }
      ]
    },
    {
      "cell_type": "code",
      "source": [],
      "metadata": {
        "id": "GxCEiDjz7ZdL",
        "colab": {
          "base_uri": "https://localhost:8080/"
        },
        "outputId": "16ace09d-ddfe-4495-c664-9989840c016c"
      },
      "execution_count": null,
      "outputs": [
        {
          "output_type": "stream",
          "name": "stdout",
          "text": [
            "Looking in indexes: https://pypi.org/simple, https://us-python.pkg.dev/colab-wheels/public/simple/\n",
            "Requirement already satisfied: kaggle in /usr/local/lib/python3.8/dist-packages (1.5.12)\n",
            "Requirement already satisfied: python-dateutil in /usr/local/lib/python3.8/dist-packages (from kaggle) (2.8.2)\n",
            "Requirement already satisfied: python-slugify in /usr/local/lib/python3.8/dist-packages (from kaggle) (7.0.0)\n",
            "Requirement already satisfied: six>=1.10 in /usr/local/lib/python3.8/dist-packages (from kaggle) (1.15.0)\n",
            "Requirement already satisfied: urllib3 in /usr/local/lib/python3.8/dist-packages (from kaggle) (1.24.3)\n",
            "Requirement already satisfied: certifi in /usr/local/lib/python3.8/dist-packages (from kaggle) (2022.12.7)\n",
            "Requirement already satisfied: requests in /usr/local/lib/python3.8/dist-packages (from kaggle) (2.25.1)\n",
            "Requirement already satisfied: tqdm in /usr/local/lib/python3.8/dist-packages (from kaggle) (4.64.1)\n",
            "Requirement already satisfied: text-unidecode>=1.3 in /usr/local/lib/python3.8/dist-packages (from python-slugify->kaggle) (1.3)\n",
            "Requirement already satisfied: idna<3,>=2.5 in /usr/local/lib/python3.8/dist-packages (from requests->kaggle) (2.10)\n",
            "Requirement already satisfied: chardet<5,>=3.0.2 in /usr/local/lib/python3.8/dist-packages (from requests->kaggle) (4.0.0)\n"
          ]
        }
      ]
    },
    {
      "cell_type": "code",
      "source": [
        "# # Change the current working directory to where to download the dataset which is fetch from kaggle.\n",
        "# path = \"/content/drive/MyDrive/Internship Report/Dataset/\"\n",
        "# %cd path"
      ],
      "metadata": {
        "id": "QsIWjZMa7Zg6",
        "colab": {
          "base_uri": "https://localhost:8080/"
        },
        "outputId": "a994f05f-c5ef-4da1-80ab-277b8b132694"
      },
      "execution_count": null,
      "outputs": [
        {
          "output_type": "stream",
          "name": "stdout",
          "text": [
            "/content/drive/MyDrive/Internship Report/Dataset\n"
          ]
        }
      ]
    },
    {
      "cell_type": "code",
      "source": [
        "# # Run the following code to configure the path to “kaggle.json”.\n",
        "\n",
        "# import os\n",
        "# os.environ['KAGGLE_CONFIG_DIR'] = path"
      ],
      "metadata": {
        "id": "tTdwL6iI7ZlR"
      },
      "execution_count": null,
      "outputs": []
    },
    {
      "cell_type": "code",
      "source": [
        "# !kaggle datasets download -d kmader/skin-cancer-mnist-ham10000 # at current directory location."
      ],
      "metadata": {
        "id": "4Rb1EwTR7ZpQ",
        "colab": {
          "base_uri": "https://localhost:8080/"
        },
        "outputId": "2a76caea-644d-4f71-b88d-e10ccc2b8b86"
      },
      "execution_count": null,
      "outputs": [
        {
          "output_type": "stream",
          "name": "stdout",
          "text": [
            "Downloading skin-cancer-mnist-ham10000.zip to /content/drive/MyDrive/Internship Report\n",
            "100% 5.19G/5.20G [00:38<00:00, 138MB/s]\n",
            "100% 5.20G/5.20G [00:38<00:00, 146MB/s]\n"
          ]
        }
      ]
    },
    {
      "cell_type": "code",
      "source": [
        "# # Unzip the dataset-folder in your google drive\n",
        "# with zipfile.ZipFile('/content/drive/MyDrive/Internship Report/Dataset/skin-cancer-mnist-ham10000.zip', 'r') as zip_ref:\n",
        "#     zip_ref.extractall()"
      ],
      "metadata": {
        "id": "04yuH3qu7ZtT"
      },
      "execution_count": null,
      "outputs": []
    },
    {
      "cell_type": "code",
      "source": [
        "# Delete any file or folder.\n",
        "# !rm -rf \"/content/drive/MyDrive/Internship Report/Dataset/skin-cancer-mnist-ham10000.zip\""
      ],
      "metadata": {
        "id": "9MVXds3t7Zxh"
      },
      "execution_count": null,
      "outputs": []
    },
    {
      "cell_type": "code",
      "source": [],
      "metadata": {
        "id": "6dTYk8nB7Z1t"
      },
      "execution_count": null,
      "outputs": []
    },
    {
      "cell_type": "markdown",
      "source": [
        "# Start From Here"
      ],
      "metadata": {
        "id": "DAbiX5NDFEV9"
      }
    },
    {
      "cell_type": "code",
      "source": [
        "import numpy as np\n",
        "import pandas as pd\n",
        "from glob import glob\n",
        "from PIL import Image\n",
        "import os\n",
        "import shutil\n",
        "import matplotlib.pyplot as plt\n",
        "import seaborn as sns\n",
        "\n",
        "np.random.seed(42)\n",
        "from sklearn.metrics import confusion_matrix"
      ],
      "metadata": {
        "id": "hraVzgAu7Z5w"
      },
      "execution_count": null,
      "outputs": []
    },
    {
      "cell_type": "code",
      "source": [
        "import keras\n",
        "from keras.utils.np_utils import to_categorical # used for converting labels to one-hot-encoding\n",
        "from keras.models import Sequential\n",
        "from keras.layers import Dense, Dropout, Flatten, Conv2D, MaxPool2D, BatchNormalization\n",
        "from sklearn.model_selection import train_test_split\n",
        "from scipy import stats\n",
        "from sklearn.preprocessing import LabelEncoder"
      ],
      "metadata": {
        "id": "UPnQAdKPE4HY"
      },
      "execution_count": null,
      "outputs": []
    },
    {
      "cell_type": "code",
      "source": [
        "skin_df = pd.read_csv('/content/drive/MyDrive/Internship Report/Dataset/HAM10000_metadata.csv')"
      ],
      "metadata": {
        "id": "nEXaNAhBE4Jv"
      },
      "execution_count": null,
      "outputs": []
    },
    {
      "cell_type": "code",
      "source": [
        "skin_df.head()"
      ],
      "metadata": {
        "colab": {
          "base_uri": "https://localhost:8080/",
          "height": 206
        },
        "id": "_JOjzWuHE4M4",
        "outputId": "38af62d6-c33b-473b-8e3c-998f8cdea9bf"
      },
      "execution_count": null,
      "outputs": [
        {
          "output_type": "execute_result",
          "data": {
            "text/plain": [
              "     lesion_id      image_id   dx dx_type   age   sex localization\n",
              "0  HAM_0000118  ISIC_0027419  bkl   histo  80.0  male        scalp\n",
              "1  HAM_0000118  ISIC_0025030  bkl   histo  80.0  male        scalp\n",
              "2  HAM_0002730  ISIC_0026769  bkl   histo  80.0  male        scalp\n",
              "3  HAM_0002730  ISIC_0025661  bkl   histo  80.0  male        scalp\n",
              "4  HAM_0001466  ISIC_0031633  bkl   histo  75.0  male          ear"
            ],
            "text/html": [
              "\n",
              "  <div id=\"df-b6d0bfeb-6d90-46a4-bdf7-e27384788284\">\n",
              "    <div class=\"colab-df-container\">\n",
              "      <div>\n",
              "<style scoped>\n",
              "    .dataframe tbody tr th:only-of-type {\n",
              "        vertical-align: middle;\n",
              "    }\n",
              "\n",
              "    .dataframe tbody tr th {\n",
              "        vertical-align: top;\n",
              "    }\n",
              "\n",
              "    .dataframe thead th {\n",
              "        text-align: right;\n",
              "    }\n",
              "</style>\n",
              "<table border=\"1\" class=\"dataframe\">\n",
              "  <thead>\n",
              "    <tr style=\"text-align: right;\">\n",
              "      <th></th>\n",
              "      <th>lesion_id</th>\n",
              "      <th>image_id</th>\n",
              "      <th>dx</th>\n",
              "      <th>dx_type</th>\n",
              "      <th>age</th>\n",
              "      <th>sex</th>\n",
              "      <th>localization</th>\n",
              "    </tr>\n",
              "  </thead>\n",
              "  <tbody>\n",
              "    <tr>\n",
              "      <th>0</th>\n",
              "      <td>HAM_0000118</td>\n",
              "      <td>ISIC_0027419</td>\n",
              "      <td>bkl</td>\n",
              "      <td>histo</td>\n",
              "      <td>80.0</td>\n",
              "      <td>male</td>\n",
              "      <td>scalp</td>\n",
              "    </tr>\n",
              "    <tr>\n",
              "      <th>1</th>\n",
              "      <td>HAM_0000118</td>\n",
              "      <td>ISIC_0025030</td>\n",
              "      <td>bkl</td>\n",
              "      <td>histo</td>\n",
              "      <td>80.0</td>\n",
              "      <td>male</td>\n",
              "      <td>scalp</td>\n",
              "    </tr>\n",
              "    <tr>\n",
              "      <th>2</th>\n",
              "      <td>HAM_0002730</td>\n",
              "      <td>ISIC_0026769</td>\n",
              "      <td>bkl</td>\n",
              "      <td>histo</td>\n",
              "      <td>80.0</td>\n",
              "      <td>male</td>\n",
              "      <td>scalp</td>\n",
              "    </tr>\n",
              "    <tr>\n",
              "      <th>3</th>\n",
              "      <td>HAM_0002730</td>\n",
              "      <td>ISIC_0025661</td>\n",
              "      <td>bkl</td>\n",
              "      <td>histo</td>\n",
              "      <td>80.0</td>\n",
              "      <td>male</td>\n",
              "      <td>scalp</td>\n",
              "    </tr>\n",
              "    <tr>\n",
              "      <th>4</th>\n",
              "      <td>HAM_0001466</td>\n",
              "      <td>ISIC_0031633</td>\n",
              "      <td>bkl</td>\n",
              "      <td>histo</td>\n",
              "      <td>75.0</td>\n",
              "      <td>male</td>\n",
              "      <td>ear</td>\n",
              "    </tr>\n",
              "  </tbody>\n",
              "</table>\n",
              "</div>\n",
              "      <button class=\"colab-df-convert\" onclick=\"convertToInteractive('df-b6d0bfeb-6d90-46a4-bdf7-e27384788284')\"\n",
              "              title=\"Convert this dataframe to an interactive table.\"\n",
              "              style=\"display:none;\">\n",
              "        \n",
              "  <svg xmlns=\"http://www.w3.org/2000/svg\" height=\"24px\"viewBox=\"0 0 24 24\"\n",
              "       width=\"24px\">\n",
              "    <path d=\"M0 0h24v24H0V0z\" fill=\"none\"/>\n",
              "    <path d=\"M18.56 5.44l.94 2.06.94-2.06 2.06-.94-2.06-.94-.94-2.06-.94 2.06-2.06.94zm-11 1L8.5 8.5l.94-2.06 2.06-.94-2.06-.94L8.5 2.5l-.94 2.06-2.06.94zm10 10l.94 2.06.94-2.06 2.06-.94-2.06-.94-.94-2.06-.94 2.06-2.06.94z\"/><path d=\"M17.41 7.96l-1.37-1.37c-.4-.4-.92-.59-1.43-.59-.52 0-1.04.2-1.43.59L10.3 9.45l-7.72 7.72c-.78.78-.78 2.05 0 2.83L4 21.41c.39.39.9.59 1.41.59.51 0 1.02-.2 1.41-.59l7.78-7.78 2.81-2.81c.8-.78.8-2.07 0-2.86zM5.41 20L4 18.59l7.72-7.72 1.47 1.35L5.41 20z\"/>\n",
              "  </svg>\n",
              "      </button>\n",
              "      \n",
              "  <style>\n",
              "    .colab-df-container {\n",
              "      display:flex;\n",
              "      flex-wrap:wrap;\n",
              "      gap: 12px;\n",
              "    }\n",
              "\n",
              "    .colab-df-convert {\n",
              "      background-color: #E8F0FE;\n",
              "      border: none;\n",
              "      border-radius: 50%;\n",
              "      cursor: pointer;\n",
              "      display: none;\n",
              "      fill: #1967D2;\n",
              "      height: 32px;\n",
              "      padding: 0 0 0 0;\n",
              "      width: 32px;\n",
              "    }\n",
              "\n",
              "    .colab-df-convert:hover {\n",
              "      background-color: #E2EBFA;\n",
              "      box-shadow: 0px 1px 2px rgba(60, 64, 67, 0.3), 0px 1px 3px 1px rgba(60, 64, 67, 0.15);\n",
              "      fill: #174EA6;\n",
              "    }\n",
              "\n",
              "    [theme=dark] .colab-df-convert {\n",
              "      background-color: #3B4455;\n",
              "      fill: #D2E3FC;\n",
              "    }\n",
              "\n",
              "    [theme=dark] .colab-df-convert:hover {\n",
              "      background-color: #434B5C;\n",
              "      box-shadow: 0px 1px 3px 1px rgba(0, 0, 0, 0.15);\n",
              "      filter: drop-shadow(0px 1px 2px rgba(0, 0, 0, 0.3));\n",
              "      fill: #FFFFFF;\n",
              "    }\n",
              "  </style>\n",
              "\n",
              "      <script>\n",
              "        const buttonEl =\n",
              "          document.querySelector('#df-b6d0bfeb-6d90-46a4-bdf7-e27384788284 button.colab-df-convert');\n",
              "        buttonEl.style.display =\n",
              "          google.colab.kernel.accessAllowed ? 'block' : 'none';\n",
              "\n",
              "        async function convertToInteractive(key) {\n",
              "          const element = document.querySelector('#df-b6d0bfeb-6d90-46a4-bdf7-e27384788284');\n",
              "          const dataTable =\n",
              "            await google.colab.kernel.invokeFunction('convertToInteractive',\n",
              "                                                     [key], {});\n",
              "          if (!dataTable) return;\n",
              "\n",
              "          const docLinkHtml = 'Like what you see? Visit the ' +\n",
              "            '<a target=\"_blank\" href=https://colab.research.google.com/notebooks/data_table.ipynb>data table notebook</a>'\n",
              "            + ' to learn more about interactive tables.';\n",
              "          element.innerHTML = '';\n",
              "          dataTable['output_type'] = 'display_data';\n",
              "          await google.colab.output.renderOutput(dataTable, element);\n",
              "          const docLink = document.createElement('div');\n",
              "          docLink.innerHTML = docLinkHtml;\n",
              "          element.appendChild(docLink);\n",
              "        }\n",
              "      </script>\n",
              "    </div>\n",
              "  </div>\n",
              "  "
            ]
          },
          "metadata": {},
          "execution_count": 4
        }
      ]
    },
    {
      "cell_type": "code",
      "source": [
        "SIZE = 32"
      ],
      "metadata": {
        "id": "oXgfLWIOE4P9"
      },
      "execution_count": null,
      "outputs": []
    },
    {
      "cell_type": "code",
      "source": [
        "# label encoding to numeric values from text\n",
        "le_model = LabelEncoder()\n",
        "le_model.fit(skin_df['dx'])"
      ],
      "metadata": {
        "colab": {
          "base_uri": "https://localhost:8080/"
        },
        "id": "Lz3j8X8ME4UH",
        "outputId": "601cf504-59b4-4611-d2df-f11c1c332f64"
      },
      "execution_count": null,
      "outputs": [
        {
          "output_type": "execute_result",
          "data": {
            "text/plain": [
              "LabelEncoder()"
            ]
          },
          "metadata": {},
          "execution_count": 6
        }
      ]
    },
    {
      "cell_type": "code",
      "source": [
        "print(list(le_model.classes_))"
      ],
      "metadata": {
        "colab": {
          "base_uri": "https://localhost:8080/"
        },
        "id": "ZhJSM3D-E4WK",
        "outputId": "c6a9467d-e583-4305-be3b-5291c667e8bf"
      },
      "execution_count": null,
      "outputs": [
        {
          "output_type": "stream",
          "name": "stdout",
          "text": [
            "['akiec', 'bcc', 'bkl', 'df', 'mel', 'nv', 'vasc']\n"
          ]
        }
      ]
    },
    {
      "cell_type": "code",
      "source": [
        "skin_df['label'] = le_model.transform(skin_df[\"dx\"])"
      ],
      "metadata": {
        "id": "X_eelXTFE4ZW"
      },
      "execution_count": null,
      "outputs": []
    },
    {
      "cell_type": "code",
      "source": [
        "skin_df.sample(10)"
      ],
      "metadata": {
        "colab": {
          "base_uri": "https://localhost:8080/",
          "height": 363
        },
        "id": "zaJnuyxXE4df",
        "outputId": "79cbe307-691e-45a2-dd3a-f81ff3e2a66d"
      },
      "execution_count": null,
      "outputs": [
        {
          "output_type": "execute_result",
          "data": {
            "text/plain": [
              "        lesion_id      image_id   dx    dx_type   age     sex  \\\n",
              "1617  HAM_0007180  ISIC_0033272  mel      histo  65.0    male   \n",
              "8128  HAM_0007195  ISIC_0031923   nv      histo  40.0  female   \n",
              "2168  HAM_0001835  ISIC_0026652  mel      histo  65.0    male   \n",
              "1090  HAM_0000465  ISIC_0030583  bkl  consensus  35.0  female   \n",
              "7754  HAM_0001720  ISIC_0034010   nv      histo  45.0    male   \n",
              "8071  HAM_0006333  ISIC_0024424   nv      histo  35.0    male   \n",
              "7423  HAM_0004548  ISIC_0032832   nv      histo  45.0  female   \n",
              "8984  HAM_0006526  ISIC_0026671   nv      histo  55.0    male   \n",
              "2310  HAM_0003102  ISIC_0032389  mel      histo  65.0    male   \n",
              "7256  HAM_0004260  ISIC_0025525   nv      histo  65.0    male   \n",
              "\n",
              "         localization  label  \n",
              "1617             face      4  \n",
              "8128  lower extremity      5  \n",
              "2168             back      4  \n",
              "1090            trunk      2  \n",
              "7754          abdomen      5  \n",
              "8071            trunk      5  \n",
              "7423  upper extremity      5  \n",
              "8984  lower extremity      5  \n",
              "2310             face      4  \n",
              "7256             back      5  "
            ],
            "text/html": [
              "\n",
              "  <div id=\"df-dbd7cf20-1bf0-4ec9-8172-7cab128cdbc1\">\n",
              "    <div class=\"colab-df-container\">\n",
              "      <div>\n",
              "<style scoped>\n",
              "    .dataframe tbody tr th:only-of-type {\n",
              "        vertical-align: middle;\n",
              "    }\n",
              "\n",
              "    .dataframe tbody tr th {\n",
              "        vertical-align: top;\n",
              "    }\n",
              "\n",
              "    .dataframe thead th {\n",
              "        text-align: right;\n",
              "    }\n",
              "</style>\n",
              "<table border=\"1\" class=\"dataframe\">\n",
              "  <thead>\n",
              "    <tr style=\"text-align: right;\">\n",
              "      <th></th>\n",
              "      <th>lesion_id</th>\n",
              "      <th>image_id</th>\n",
              "      <th>dx</th>\n",
              "      <th>dx_type</th>\n",
              "      <th>age</th>\n",
              "      <th>sex</th>\n",
              "      <th>localization</th>\n",
              "      <th>label</th>\n",
              "    </tr>\n",
              "  </thead>\n",
              "  <tbody>\n",
              "    <tr>\n",
              "      <th>1617</th>\n",
              "      <td>HAM_0007180</td>\n",
              "      <td>ISIC_0033272</td>\n",
              "      <td>mel</td>\n",
              "      <td>histo</td>\n",
              "      <td>65.0</td>\n",
              "      <td>male</td>\n",
              "      <td>face</td>\n",
              "      <td>4</td>\n",
              "    </tr>\n",
              "    <tr>\n",
              "      <th>8128</th>\n",
              "      <td>HAM_0007195</td>\n",
              "      <td>ISIC_0031923</td>\n",
              "      <td>nv</td>\n",
              "      <td>histo</td>\n",
              "      <td>40.0</td>\n",
              "      <td>female</td>\n",
              "      <td>lower extremity</td>\n",
              "      <td>5</td>\n",
              "    </tr>\n",
              "    <tr>\n",
              "      <th>2168</th>\n",
              "      <td>HAM_0001835</td>\n",
              "      <td>ISIC_0026652</td>\n",
              "      <td>mel</td>\n",
              "      <td>histo</td>\n",
              "      <td>65.0</td>\n",
              "      <td>male</td>\n",
              "      <td>back</td>\n",
              "      <td>4</td>\n",
              "    </tr>\n",
              "    <tr>\n",
              "      <th>1090</th>\n",
              "      <td>HAM_0000465</td>\n",
              "      <td>ISIC_0030583</td>\n",
              "      <td>bkl</td>\n",
              "      <td>consensus</td>\n",
              "      <td>35.0</td>\n",
              "      <td>female</td>\n",
              "      <td>trunk</td>\n",
              "      <td>2</td>\n",
              "    </tr>\n",
              "    <tr>\n",
              "      <th>7754</th>\n",
              "      <td>HAM_0001720</td>\n",
              "      <td>ISIC_0034010</td>\n",
              "      <td>nv</td>\n",
              "      <td>histo</td>\n",
              "      <td>45.0</td>\n",
              "      <td>male</td>\n",
              "      <td>abdomen</td>\n",
              "      <td>5</td>\n",
              "    </tr>\n",
              "    <tr>\n",
              "      <th>8071</th>\n",
              "      <td>HAM_0006333</td>\n",
              "      <td>ISIC_0024424</td>\n",
              "      <td>nv</td>\n",
              "      <td>histo</td>\n",
              "      <td>35.0</td>\n",
              "      <td>male</td>\n",
              "      <td>trunk</td>\n",
              "      <td>5</td>\n",
              "    </tr>\n",
              "    <tr>\n",
              "      <th>7423</th>\n",
              "      <td>HAM_0004548</td>\n",
              "      <td>ISIC_0032832</td>\n",
              "      <td>nv</td>\n",
              "      <td>histo</td>\n",
              "      <td>45.0</td>\n",
              "      <td>female</td>\n",
              "      <td>upper extremity</td>\n",
              "      <td>5</td>\n",
              "    </tr>\n",
              "    <tr>\n",
              "      <th>8984</th>\n",
              "      <td>HAM_0006526</td>\n",
              "      <td>ISIC_0026671</td>\n",
              "      <td>nv</td>\n",
              "      <td>histo</td>\n",
              "      <td>55.0</td>\n",
              "      <td>male</td>\n",
              "      <td>lower extremity</td>\n",
              "      <td>5</td>\n",
              "    </tr>\n",
              "    <tr>\n",
              "      <th>2310</th>\n",
              "      <td>HAM_0003102</td>\n",
              "      <td>ISIC_0032389</td>\n",
              "      <td>mel</td>\n",
              "      <td>histo</td>\n",
              "      <td>65.0</td>\n",
              "      <td>male</td>\n",
              "      <td>face</td>\n",
              "      <td>4</td>\n",
              "    </tr>\n",
              "    <tr>\n",
              "      <th>7256</th>\n",
              "      <td>HAM_0004260</td>\n",
              "      <td>ISIC_0025525</td>\n",
              "      <td>nv</td>\n",
              "      <td>histo</td>\n",
              "      <td>65.0</td>\n",
              "      <td>male</td>\n",
              "      <td>back</td>\n",
              "      <td>5</td>\n",
              "    </tr>\n",
              "  </tbody>\n",
              "</table>\n",
              "</div>\n",
              "      <button class=\"colab-df-convert\" onclick=\"convertToInteractive('df-dbd7cf20-1bf0-4ec9-8172-7cab128cdbc1')\"\n",
              "              title=\"Convert this dataframe to an interactive table.\"\n",
              "              style=\"display:none;\">\n",
              "        \n",
              "  <svg xmlns=\"http://www.w3.org/2000/svg\" height=\"24px\"viewBox=\"0 0 24 24\"\n",
              "       width=\"24px\">\n",
              "    <path d=\"M0 0h24v24H0V0z\" fill=\"none\"/>\n",
              "    <path d=\"M18.56 5.44l.94 2.06.94-2.06 2.06-.94-2.06-.94-.94-2.06-.94 2.06-2.06.94zm-11 1L8.5 8.5l.94-2.06 2.06-.94-2.06-.94L8.5 2.5l-.94 2.06-2.06.94zm10 10l.94 2.06.94-2.06 2.06-.94-2.06-.94-.94-2.06-.94 2.06-2.06.94z\"/><path d=\"M17.41 7.96l-1.37-1.37c-.4-.4-.92-.59-1.43-.59-.52 0-1.04.2-1.43.59L10.3 9.45l-7.72 7.72c-.78.78-.78 2.05 0 2.83L4 21.41c.39.39.9.59 1.41.59.51 0 1.02-.2 1.41-.59l7.78-7.78 2.81-2.81c.8-.78.8-2.07 0-2.86zM5.41 20L4 18.59l7.72-7.72 1.47 1.35L5.41 20z\"/>\n",
              "  </svg>\n",
              "      </button>\n",
              "      \n",
              "  <style>\n",
              "    .colab-df-container {\n",
              "      display:flex;\n",
              "      flex-wrap:wrap;\n",
              "      gap: 12px;\n",
              "    }\n",
              "\n",
              "    .colab-df-convert {\n",
              "      background-color: #E8F0FE;\n",
              "      border: none;\n",
              "      border-radius: 50%;\n",
              "      cursor: pointer;\n",
              "      display: none;\n",
              "      fill: #1967D2;\n",
              "      height: 32px;\n",
              "      padding: 0 0 0 0;\n",
              "      width: 32px;\n",
              "    }\n",
              "\n",
              "    .colab-df-convert:hover {\n",
              "      background-color: #E2EBFA;\n",
              "      box-shadow: 0px 1px 2px rgba(60, 64, 67, 0.3), 0px 1px 3px 1px rgba(60, 64, 67, 0.15);\n",
              "      fill: #174EA6;\n",
              "    }\n",
              "\n",
              "    [theme=dark] .colab-df-convert {\n",
              "      background-color: #3B4455;\n",
              "      fill: #D2E3FC;\n",
              "    }\n",
              "\n",
              "    [theme=dark] .colab-df-convert:hover {\n",
              "      background-color: #434B5C;\n",
              "      box-shadow: 0px 1px 3px 1px rgba(0, 0, 0, 0.15);\n",
              "      filter: drop-shadow(0px 1px 2px rgba(0, 0, 0, 0.3));\n",
              "      fill: #FFFFFF;\n",
              "    }\n",
              "  </style>\n",
              "\n",
              "      <script>\n",
              "        const buttonEl =\n",
              "          document.querySelector('#df-dbd7cf20-1bf0-4ec9-8172-7cab128cdbc1 button.colab-df-convert');\n",
              "        buttonEl.style.display =\n",
              "          google.colab.kernel.accessAllowed ? 'block' : 'none';\n",
              "\n",
              "        async function convertToInteractive(key) {\n",
              "          const element = document.querySelector('#df-dbd7cf20-1bf0-4ec9-8172-7cab128cdbc1');\n",
              "          const dataTable =\n",
              "            await google.colab.kernel.invokeFunction('convertToInteractive',\n",
              "                                                     [key], {});\n",
              "          if (!dataTable) return;\n",
              "\n",
              "          const docLinkHtml = 'Like what you see? Visit the ' +\n",
              "            '<a target=\"_blank\" href=https://colab.research.google.com/notebooks/data_table.ipynb>data table notebook</a>'\n",
              "            + ' to learn more about interactive tables.';\n",
              "          element.innerHTML = '';\n",
              "          dataTable['output_type'] = 'display_data';\n",
              "          await google.colab.output.renderOutput(dataTable, element);\n",
              "          const docLink = document.createElement('div');\n",
              "          docLink.innerHTML = docLinkHtml;\n",
              "          element.appendChild(docLink);\n",
              "        }\n",
              "      </script>\n",
              "    </div>\n",
              "  </div>\n",
              "  "
            ]
          },
          "metadata": {},
          "execution_count": 9
        }
      ]
    },
    {
      "cell_type": "code",
      "source": [
        "skin_df.isnull().sum()"
      ],
      "metadata": {
        "colab": {
          "base_uri": "https://localhost:8080/"
        },
        "id": "oOjQz1XBE4f5",
        "outputId": "535f8542-07bc-4e25-b6ae-bc607e3265be"
      },
      "execution_count": null,
      "outputs": [
        {
          "output_type": "execute_result",
          "data": {
            "text/plain": [
              "lesion_id        0\n",
              "image_id         0\n",
              "dx               0\n",
              "dx_type          0\n",
              "age             57\n",
              "sex              0\n",
              "localization     0\n",
              "label            0\n",
              "dtype: int64"
            ]
          },
          "metadata": {},
          "execution_count": 10
        }
      ]
    },
    {
      "cell_type": "markdown",
      "source": [
        "# Data distribution visualization"
      ],
      "metadata": {
        "id": "vUdMQJtmFmLL"
      }
    },
    {
      "cell_type": "code",
      "source": [
        "skin_df['dx'].unique()"
      ],
      "metadata": {
        "colab": {
          "base_uri": "https://localhost:8080/"
        },
        "id": "LNEYSQV4E4iW",
        "outputId": "157fed0a-6a9e-4704-8c41-8196f4029e5e"
      },
      "execution_count": null,
      "outputs": [
        {
          "output_type": "execute_result",
          "data": {
            "text/plain": [
              "array(['bkl', 'nv', 'df', 'mel', 'vasc', 'bcc', 'akiec'], dtype=object)"
            ]
          },
          "metadata": {},
          "execution_count": 11
        }
      ]
    },
    {
      "cell_type": "code",
      "source": [
        "skin_df['dx'].value_counts()"
      ],
      "metadata": {
        "colab": {
          "base_uri": "https://localhost:8080/"
        },
        "id": "GVAd47trE4ky",
        "outputId": "6583582f-49e7-475b-eae5-da0364c3e9cb"
      },
      "execution_count": null,
      "outputs": [
        {
          "output_type": "execute_result",
          "data": {
            "text/plain": [
              "nv       6705\n",
              "mel      1113\n",
              "bkl      1099\n",
              "bcc       514\n",
              "akiec     327\n",
              "vasc      142\n",
              "df        115\n",
              "Name: dx, dtype: int64"
            ]
          },
          "metadata": {},
          "execution_count": 12
        }
      ]
    },
    {
      "cell_type": "code",
      "source": [
        "skin_df['dx'].value_counts().index.tolist()"
      ],
      "metadata": {
        "colab": {
          "base_uri": "https://localhost:8080/"
        },
        "id": "SJdC7AIlE4oE",
        "outputId": "ddd31f51-3894-44ba-8ca2-71a6c74eb302"
      },
      "execution_count": null,
      "outputs": [
        {
          "output_type": "execute_result",
          "data": {
            "text/plain": [
              "['nv', 'mel', 'bkl', 'bcc', 'akiec', 'vasc', 'df']"
            ]
          },
          "metadata": {},
          "execution_count": 13
        }
      ]
    },
    {
      "cell_type": "code",
      "source": [
        "plt.bar(skin_df['dx'].value_counts().index.tolist(), skin_df['dx'].value_counts())\n",
        "plt.title('Skin Cancer Type')\n",
        "plt.show()\n",
        "\n",
        "\"\"\"\n",
        "unbalanced data\n",
        "\"\"\""
      ],
      "metadata": {
        "colab": {
          "base_uri": "https://localhost:8080/",
          "height": 300
        },
        "id": "DHGh1z0JE4qJ",
        "outputId": "d0ceca31-9b36-4ce2-b403-def304249d8d"
      },
      "execution_count": null,
      "outputs": [
        {
          "output_type": "display_data",
          "data": {
            "text/plain": [
              "<Figure size 432x288 with 1 Axes>"
            ],
            "image/png": "[encoded data removed]"
          },
          "metadata": {
            "needs_background": "light"
          }
        },
        {
          "output_type": "execute_result",
          "data": {
            "text/plain": [
              "'\\nunbalanced data\\n'"
            ],
            "application/vnd.google.colaboratory.intrinsic+json": {
              "type": "string"
            }
          },
          "metadata": {},
          "execution_count": 14
        }
      ]
    },
    {
      "cell_type": "code",
      "source": [
        "plt.bar(skin_df['sex'].value_counts().index.tolist(), skin_df['sex'].value_counts())\n",
        "plt.title('Sex')\n",
        "plt.show()"
      ],
      "metadata": {
        "colab": {
          "base_uri": "https://localhost:8080/",
          "height": 281
        },
        "id": "Kl6GRCyKE4sf",
        "outputId": "8bfd7dbd-1c7a-4cb7-99e2-2ab6d4701ce8"
      },
      "execution_count": null,
      "outputs": [
        {
          "output_type": "display_data",
          "data": {
            "text/plain": [
              "<Figure size 432x288 with 1 Axes>"
            ],
            "image/png": "[encoded data removed]"
          },
          "metadata": {
            "needs_background": "light"
          }
        }
      ]
    },
    {
      "cell_type": "code",
      "source": [
        "plt.bar(skin_df['localization'].value_counts().index.tolist(), skin_df['localization'].value_counts())\n",
        "plt.title('Body Location of Cancer')\n",
        "plt.xticks(rotation=90)\n",
        "plt.show()"
      ],
      "metadata": {
        "colab": {
          "base_uri": "https://localhost:8080/",
          "height": 352
        },
        "id": "nAQ13Wt5E4xk",
        "outputId": "563f05fb-60ef-4d7b-a548-df9741baba5a"
      },
      "execution_count": null,
      "outputs": [
        {
          "output_type": "display_data",
          "data": {
            "text/plain": [
              "<Figure size 432x288 with 1 Axes>"
            ],
            "image/png": "[encoded data removed]"
          },
          "metadata": {
            "needs_background": "light"
          }
        }
      ]
    },
    {
      "cell_type": "code",
      "source": [
        "sample_age = skin_df[pd.notnull(skin_df['age'])]\n",
        "sns.distplot(sample_age['age'], fit=stats.norm, color='red');\n",
        "plt.title('Age')\n",
        "plt.show()"
      ],
      "metadata": {
        "colab": {
          "base_uri": "https://localhost:8080/",
          "height": 350
        },
        "id": "spKB_vmzE4ze",
        "outputId": "7ceabbb6-7328-43f7-b7fe-308ea5767a78"
      },
      "execution_count": null,
      "outputs": [
        {
          "output_type": "stream",
          "name": "stderr",
          "text": [
            "/usr/local/lib/python3.8/dist-packages/seaborn/distributions.py:2619: FutureWarning: `distplot` is a deprecated function and will be removed in a future version. Please adapt your code to use either `displot` (a figure-level function with similar flexibility) or `histplot` (an axes-level function for histograms).\n",
            "  warnings.warn(msg, FutureWarning)\n"
          ]
        },
        {
          "output_type": "display_data",
          "data": {
            "text/plain": [
              "<Figure size 432x288 with 1 Axes>"
            ],
            "image/png": "[encoded data removed]"
          },
          "metadata": {
            "needs_background": "light"
          }
        }
      ]
    },
    {
      "cell_type": "code",
      "source": [
        "# Distribution of data into various classes\n",
        "skin_df['label'].value_counts()"
      ],
      "metadata": {
        "colab": {
          "base_uri": "https://localhost:8080/"
        },
        "id": "QOFJ34m7E43P",
        "outputId": "da1d23a7-6f18-40de-fbb0-2c5f0acdf69a"
      },
      "execution_count": null,
      "outputs": [
        {
          "output_type": "execute_result",
          "data": {
            "text/plain": [
              "5    6705\n",
              "4    1113\n",
              "2    1099\n",
              "1     514\n",
              "0     327\n",
              "6     142\n",
              "3     115\n",
              "Name: label, dtype: int64"
            ]
          },
          "metadata": {},
          "execution_count": 18
        }
      ]
    },
    {
      "cell_type": "code",
      "source": [
        "\"\"\"\n",
        "solving unbalanced dataset\n",
        "\"\"\"\n",
        "df_0 = skin_df[skin_df['label'] == 0]\n",
        "df_1 = skin_df[skin_df['label'] == 1]\n",
        "df_2 = skin_df[skin_df['label'] == 2]\n",
        "df_3 = skin_df[skin_df['label'] == 3]\n",
        "df_4 = skin_df[skin_df['label'] == 4]\n",
        "df_5 = skin_df[skin_df['label'] == 5]\n",
        "df_6 = skin_df[skin_df['label'] == 6]"
      ],
      "metadata": {
        "id": "8MrRuLqPE47J"
      },
      "execution_count": null,
      "outputs": []
    },
    {
      "cell_type": "code",
      "source": [
        "from sklearn.utils import resample"
      ],
      "metadata": {
        "id": "Yjz0Ltd9E4-X"
      },
      "execution_count": null,
      "outputs": []
    },
    {
      "cell_type": "code",
      "source": [
        "# balance all the label data\n",
        "n_samples = 500\n",
        "df_0_balanced = resample(df_0, replace=True, n_samples=n_samples, random_state=42)\n",
        "df_1_balanced = resample(df_1, replace=True, n_samples=n_samples, random_state=42)\n",
        "df_2_balanced = resample(df_2, replace=True, n_samples=n_samples, random_state=42)\n",
        "df_3_balanced = resample(df_3, replace=True, n_samples=n_samples, random_state=42)\n",
        "df_4_balanced = resample(df_4, replace=True, n_samples=n_samples, random_state=42)\n",
        "df_5_balanced = resample(df_5, replace=True, n_samples=n_samples, random_state=42)\n",
        "df_6_balanced = resample(df_6, replace=True, n_samples=n_samples, random_state=42)"
      ],
      "metadata": {
        "id": "OCzI1fFsE5Al"
      },
      "execution_count": null,
      "outputs": []
    },
    {
      "cell_type": "code",
      "source": [
        "#Combined all balanced data into single dataframe\n",
        "skin_df_balanced = pd.concat([df_0_balanced, df_1_balanced,\n",
        "                              df_2_balanced, df_3_balanced,\n",
        "                              df_4_balanced, df_5_balanced, df_6_balanced])"
      ],
      "metadata": {
        "id": "yGszb4eA7Z-H"
      },
      "execution_count": null,
      "outputs": []
    },
    {
      "cell_type": "code",
      "source": [
        "skin_df_balanced['label'].value_counts()"
      ],
      "metadata": {
        "colab": {
          "base_uri": "https://localhost:8080/"
        },
        "id": "_dz4KuEUGBSP",
        "outputId": "1111459f-bd7a-4cb0-cfff-b8ba3d206870"
      },
      "execution_count": null,
      "outputs": [
        {
          "output_type": "execute_result",
          "data": {
            "text/plain": [
              "0    500\n",
              "1    500\n",
              "2    500\n",
              "3    500\n",
              "4    500\n",
              "5    500\n",
              "6    500\n",
              "Name: label, dtype: int64"
            ]
          },
          "metadata": {},
          "execution_count": 23
        }
      ]
    },
    {
      "cell_type": "code",
      "source": [
        "plt.bar(skin_df_balanced['dx'].value_counts().index.tolist(), skin_df_balanced['dx'].value_counts())\n",
        "plt.title('Skin Cancer Type')\n",
        "plt.show()"
      ],
      "metadata": {
        "colab": {
          "base_uri": "https://localhost:8080/",
          "height": 281
        },
        "id": "VX5IlM-UGBV3",
        "outputId": "74af0706-48ba-441c-894a-adf06afd7031"
      },
      "execution_count": null,
      "outputs": [
        {
          "output_type": "display_data",
          "data": {
            "text/plain": [
              "<Figure size 432x288 with 1 Axes>"
            ],
            "image/png": "[encoded data removed]"
          },
          "metadata": {
            "needs_background": "light"
          }
        }
      ]
    },
    {
      "cell_type": "code",
      "source": [
        "skin_df_balanced.shape"
      ],
      "metadata": {
        "colab": {
          "base_uri": "https://localhost:8080/"
        },
        "id": "8qw19g5rGBZZ",
        "outputId": "d12273a2-889b-4e64-f32b-30f24544c12f"
      },
      "execution_count": null,
      "outputs": [
        {
          "output_type": "execute_result",
          "data": {
            "text/plain": [
              "(3500, 8)"
            ]
          },
          "metadata": {},
          "execution_count": 25
        }
      ]
    },
    {
      "cell_type": "code",
      "source": [
        "skin_df_balanced.isnull().sum()"
      ],
      "metadata": {
        "colab": {
          "base_uri": "https://localhost:8080/"
        },
        "id": "inApHoJrGBce",
        "outputId": "b6996cc0-b5c7-4ea5-b4a6-09100796f47b"
      },
      "execution_count": null,
      "outputs": [
        {
          "output_type": "execute_result",
          "data": {
            "text/plain": [
              "lesion_id        0\n",
              "image_id         0\n",
              "dx               0\n",
              "dx_type          0\n",
              "age             12\n",
              "sex              0\n",
              "localization     0\n",
              "label            0\n",
              "dtype: int64"
            ]
          },
          "metadata": {},
          "execution_count": 26
        }
      ]
    },
    {
      "cell_type": "code",
      "source": [
        "i=0\n",
        "for x in glob(os.path.join('/content/drive/MyDrive/Internship Report/Dataset/', '*', '*.jpg')):\n",
        "    if i>3:\n",
        "        break\n",
        "    print(x)\n",
        "    i=i+1"
      ],
      "metadata": {
        "colab": {
          "base_uri": "https://localhost:8080/"
        },
        "id": "HZq6MHekH_qi",
        "outputId": "a1cfd5da-21bb-41de-d8ed-f5625c7139f9"
      },
      "execution_count": null,
      "outputs": [
        {
          "output_type": "stream",
          "name": "stdout",
          "text": [
            "/content/drive/MyDrive/Internship Report/Dataset/HAM10000_images_part_1/ISIC_0028306.jpg\n",
            "/content/drive/MyDrive/Internship Report/Dataset/HAM10000_images_part_1/ISIC_0028307.jpg\n",
            "/content/drive/MyDrive/Internship Report/Dataset/HAM10000_images_part_1/ISIC_0028308.jpg\n",
            "/content/drive/MyDrive/Internship Report/Dataset/HAM10000_images_part_1/ISIC_0028309.jpg\n"
          ]
        }
      ]
    },
    {
      "cell_type": "code",
      "source": [
        "i=0\n",
        "for x in glob(os.path.join('/content/drive/MyDrive/Internship Report/Dataset/', '*', '*.jpg')):\n",
        "    if i>3:\n",
        "        break\n",
        "    print(os.path.basename(x))\n",
        "    i=i+1"
      ],
      "metadata": {
        "colab": {
          "base_uri": "https://localhost:8080/"
        },
        "id": "5g1DBu3sIcna",
        "outputId": "d0b5458d-296d-4637-e991-5dd370d51183"
      },
      "execution_count": null,
      "outputs": [
        {
          "output_type": "stream",
          "name": "stdout",
          "text": [
            "ISIC_0028306.jpg\n",
            "ISIC_0028307.jpg\n",
            "ISIC_0028308.jpg\n",
            "ISIC_0028309.jpg\n"
          ]
        }
      ]
    },
    {
      "cell_type": "code",
      "source": [
        "i=0\n",
        "for x in glob(os.path.join('/content/drive/MyDrive/Internship Report/Dataset/', '*', '*.jpg')):\n",
        "    if i>3:\n",
        "        break\n",
        "    print(os.path.splitext(os.path.basename(x))[0])\n",
        "    i=i+1"
      ],
      "metadata": {
        "colab": {
          "base_uri": "https://localhost:8080/"
        },
        "id": "RE8ZgSVRJnnd",
        "outputId": "2bfb2d3e-f2cc-4139-b25d-832b996e60fe"
      },
      "execution_count": null,
      "outputs": [
        {
          "output_type": "stream",
          "name": "stdout",
          "text": [
            "ISIC_0028306\n",
            "ISIC_0028307\n",
            "ISIC_0028308\n",
            "ISIC_0028309\n"
          ]
        }
      ]
    },
    {
      "cell_type": "code",
      "source": [
        "#Now time to read images based on image ID from the CSV file\n",
        "image_path = {os.path.splitext(os.path.basename(x))[0] : x for x in glob(os.path.join('/content/drive/MyDrive/Internship Report/Dataset/', '*', '*.jpg'))}"
      ],
      "metadata": {
        "id": "YH-8c3XHGBe-"
      },
      "execution_count": null,
      "outputs": []
    },
    {
      "cell_type": "code",
      "source": [
        "len(image_path) # total 10015 images"
      ],
      "metadata": {
        "colab": {
          "base_uri": "https://localhost:8080/"
        },
        "id": "7FkGz798Jy9g",
        "outputId": "9810ca5c-b253-4fae-f840-940b89305f67"
      },
      "execution_count": null,
      "outputs": [
        {
          "output_type": "execute_result",
          "data": {
            "text/plain": [
              "10015"
            ]
          },
          "metadata": {},
          "execution_count": 34
        }
      ]
    },
    {
      "cell_type": "code",
      "source": [
        "image_path['ISIC_0028933']"
      ],
      "metadata": {
        "colab": {
          "base_uri": "https://localhost:8080/",
          "height": 36
        },
        "id": "mrBIBo5AGBhq",
        "outputId": "d6d9aeaf-a924-4763-d345-d5e496dc1d1a"
      },
      "execution_count": null,
      "outputs": [
        {
          "output_type": "execute_result",
          "data": {
            "text/plain": [
              "'/content/drive/MyDrive/Internship Report/Dataset/HAM10000_images_part_1/ISIC_0028933.jpg'"
            ],
            "application/vnd.google.colaboratory.intrinsic+json": {
              "type": "string"
            }
          },
          "metadata": {},
          "execution_count": 35
        }
      ]
    },
    {
      "cell_type": "code",
      "source": [
        "i=0\n",
        "for key in image_path:\n",
        "    print(key + ' : ' + image_path[key])\n",
        "    if(i>3):\n",
        "        break\n",
        "    i=i+1"
      ],
      "metadata": {
        "colab": {
          "base_uri": "https://localhost:8080/"
        },
        "id": "gVEKOIt1GBnT",
        "outputId": "0fc101ee-654d-45d6-9864-25b8b4fb9637"
      },
      "execution_count": null,
      "outputs": [
        {
          "output_type": "stream",
          "name": "stdout",
          "text": [
            "ISIC_0028306 : /content/drive/MyDrive/Internship Report/Dataset/HAM10000_images_part_1/ISIC_0028306.jpg\n",
            "ISIC_0028307 : /content/drive/MyDrive/Internship Report/Dataset/HAM10000_images_part_1/ISIC_0028307.jpg\n",
            "ISIC_0028308 : /content/drive/MyDrive/Internship Report/Dataset/HAM10000_images_part_1/ISIC_0028308.jpg\n",
            "ISIC_0028309 : /content/drive/MyDrive/Internship Report/Dataset/HAM10000_images_part_1/ISIC_0028309.jpg\n",
            "ISIC_0028310 : /content/drive/MyDrive/Internship Report/Dataset/HAM10000_images_part_1/ISIC_0028310.jpg\n"
          ]
        }
      ]
    },
    {
      "cell_type": "code",
      "source": [
        "# add path of image in dataframe\n",
        "skin_df_balanced['path'] = skin_df['image_id'].map(image_path.get)"
      ],
      "metadata": {
        "id": "UE4blvX7GBpp"
      },
      "execution_count": null,
      "outputs": []
    },
    {
      "cell_type": "code",
      "source": [
        "skin_df_balanced['image'] = skin_df_balanced['path'].map(lambda x: np.asarray(Image.open(x).resize((SIZE,SIZE))))"
      ],
      "metadata": {
        "id": "pUMRMpth7aB2"
      },
      "execution_count": null,
      "outputs": []
    },
    {
      "cell_type": "code",
      "source": [
        "skin_df_balanced.head()"
      ],
      "metadata": {
        "id": "OJj9gC9H7aF5",
        "colab": {
          "base_uri": "https://localhost:8080/",
          "height": 337
        },
        "outputId": "02e7485e-aa8c-4717-94e6-463768bdeab3"
      },
      "execution_count": null,
      "outputs": [
        {
          "output_type": "execute_result",
          "data": {
            "text/plain": [
              "        lesion_id      image_id     dx dx_type   age   sex     localization  \\\n",
              "9789  HAM_0003136  ISIC_0026645  akiec   histo  65.0  male             back   \n",
              "9957  HAM_0006587  ISIC_0025780  akiec   histo  70.0  male             face   \n",
              "9793  HAM_0005505  ISIC_0024450  akiec   histo  50.0  male  upper extremity   \n",
              "9758  HAM_0003455  ISIC_0027896  akiec   histo  75.0  male             hand   \n",
              "9875  HAM_0005459  ISIC_0029268  akiec   histo  85.0  male  upper extremity   \n",
              "\n",
              "      label                                               path  \\\n",
              "9789      0  /content/drive/MyDrive/Internship Report/Datas...   \n",
              "9957      0  /content/drive/MyDrive/Internship Report/Datas...   \n",
              "9793      0  /content/drive/MyDrive/Internship Report/Datas...   \n",
              "9758      0  /content/drive/MyDrive/Internship Report/Datas...   \n",
              "9875      0  /content/drive/MyDrive/Internship Report/Datas...   \n",
              "\n",
              "                                                  image  \n",
              "9789  [[[155, 118, 107], [162, 126, 118], [174, 140,...  \n",
              "9957  [[[138, 76, 82], [131, 64, 68], [139, 73, 81],...  \n",
              "9793  [[[123, 86, 87], [174, 137, 137], [197, 161, 1...  \n",
              "9758  [[[205, 149, 175], [207, 149, 169], [214, 158,...  \n",
              "9875  [[[203, 174, 199], [205, 174, 197], [206, 175,...  "
            ],
            "text/html": [
              "\n",
              "  <div id=\"df-426f7b8b-f150-4014-9e33-e3b01f923b41\">\n",
              "    <div class=\"colab-df-container\">\n",
              "      <div>\n",
              "<style scoped>\n",
              "    .dataframe tbody tr th:only-of-type {\n",
              "        vertical-align: middle;\n",
              "    }\n",
              "\n",
              "    .dataframe tbody tr th {\n",
              "        vertical-align: top;\n",
              "    }\n",
              "\n",
              "    .dataframe thead th {\n",
              "        text-align: right;\n",
              "    }\n",
              "</style>\n",
              "<table border=\"1\" class=\"dataframe\">\n",
              "  <thead>\n",
              "    <tr style=\"text-align: right;\">\n",
              "      <th></th>\n",
              "      <th>lesion_id</th>\n",
              "      <th>image_id</th>\n",
              "      <th>dx</th>\n",
              "      <th>dx_type</th>\n",
              "      <th>age</th>\n",
              "      <th>sex</th>\n",
              "      <th>localization</th>\n",
              "      <th>label</th>\n",
              "      <th>path</th>\n",
              "      <th>image</th>\n",
              "    </tr>\n",
              "  </thead>\n",
              "  <tbody>\n",
              "    <tr>\n",
              "      <th>9789</th>\n",
              "      <td>HAM_0003136</td>\n",
              "      <td>ISIC_0026645</td>\n",
              "      <td>akiec</td>\n",
              "      <td>histo</td>\n",
              "      <td>65.0</td>\n",
              "      <td>male</td>\n",
              "      <td>back</td>\n",
              "      <td>0</td>\n",
              "      <td>/content/drive/MyDrive/Internship Report/Datas...</td>\n",
              "      <td>[[[155, 118, 107], [162, 126, 118], [174, 140,...</td>\n",
              "    </tr>\n",
              "    <tr>\n",
              "      <th>9957</th>\n",
              "      <td>HAM_0006587</td>\n",
              "      <td>ISIC_0025780</td>\n",
              "      <td>akiec</td>\n",
              "      <td>histo</td>\n",
              "      <td>70.0</td>\n",
              "      <td>male</td>\n",
              "      <td>face</td>\n",
              "      <td>0</td>\n",
              "      <td>/content/drive/MyDrive/Internship Report/Datas...</td>\n",
              "      <td>[[[138, 76, 82], [131, 64, 68], [139, 73, 81],...</td>\n",
              "    </tr>\n",
              "    <tr>\n",
              "      <th>9793</th>\n",
              "      <td>HAM_0005505</td>\n",
              "      <td>ISIC_0024450</td>\n",
              "      <td>akiec</td>\n",
              "      <td>histo</td>\n",
              "      <td>50.0</td>\n",
              "      <td>male</td>\n",
              "      <td>upper extremity</td>\n",
              "      <td>0</td>\n",
              "      <td>/content/drive/MyDrive/Internship Report/Datas...</td>\n",
              "      <td>[[[123, 86, 87], [174, 137, 137], [197, 161, 1...</td>\n",
              "    </tr>\n",
              "    <tr>\n",
              "      <th>9758</th>\n",
              "      <td>HAM_0003455</td>\n",
              "      <td>ISIC_0027896</td>\n",
              "      <td>akiec</td>\n",
              "      <td>histo</td>\n",
              "      <td>75.0</td>\n",
              "      <td>male</td>\n",
              "      <td>hand</td>\n",
              "      <td>0</td>\n",
              "      <td>/content/drive/MyDrive/Internship Report/Datas...</td>\n",
              "      <td>[[[205, 149, 175], [207, 149, 169], [214, 158,...</td>\n",
              "    </tr>\n",
              "    <tr>\n",
              "      <th>9875</th>\n",
              "      <td>HAM_0005459</td>\n",
              "      <td>ISIC_0029268</td>\n",
              "      <td>akiec</td>\n",
              "      <td>histo</td>\n",
              "      <td>85.0</td>\n",
              "      <td>male</td>\n",
              "      <td>upper extremity</td>\n",
              "      <td>0</td>\n",
              "      <td>/content/drive/MyDrive/Internship Report/Datas...</td>\n",
              "      <td>[[[203, 174, 199], [205, 174, 197], [206, 175,...</td>\n",
              "    </tr>\n",
              "  </tbody>\n",
              "</table>\n",
              "</div>\n",
              "      <button class=\"colab-df-convert\" onclick=\"convertToInteractive('df-426f7b8b-f150-4014-9e33-e3b01f923b41')\"\n",
              "              title=\"Convert this dataframe to an interactive table.\"\n",
              "              style=\"display:none;\">\n",
              "        \n",
              "  <svg xmlns=\"http://www.w3.org/2000/svg\" height=\"24px\"viewBox=\"0 0 24 24\"\n",
              "       width=\"24px\">\n",
              "    <path d=\"M0 0h24v24H0V0z\" fill=\"none\"/>\n",
              "    <path d=\"M18.56 5.44l.94 2.06.94-2.06 2.06-.94-2.06-.94-.94-2.06-.94 2.06-2.06.94zm-11 1L8.5 8.5l.94-2.06 2.06-.94-2.06-.94L8.5 2.5l-.94 2.06-2.06.94zm10 10l.94 2.06.94-2.06 2.06-.94-2.06-.94-.94-2.06-.94 2.06-2.06.94z\"/><path d=\"M17.41 7.96l-1.37-1.37c-.4-.4-.92-.59-1.43-.59-.52 0-1.04.2-1.43.59L10.3 9.45l-7.72 7.72c-.78.78-.78 2.05 0 2.83L4 21.41c.39.39.9.59 1.41.59.51 0 1.02-.2 1.41-.59l7.78-7.78 2.81-2.81c.8-.78.8-2.07 0-2.86zM5.41 20L4 18.59l7.72-7.72 1.47 1.35L5.41 20z\"/>\n",
              "  </svg>\n",
              "      </button>\n",
              "      \n",
              "  <style>\n",
              "    .colab-df-container {\n",
              "      display:flex;\n",
              "      flex-wrap:wrap;\n",
              "      gap: 12px;\n",
              "    }\n",
              "\n",
              "    .colab-df-convert {\n",
              "      background-color: #E8F0FE;\n",
              "      border: none;\n",
              "      border-radius: 50%;\n",
              "      cursor: pointer;\n",
              "      display: none;\n",
              "      fill: #1967D2;\n",
              "      height: 32px;\n",
              "      padding: 0 0 0 0;\n",
              "      width: 32px;\n",
              "    }\n",
              "\n",
              "    .colab-df-convert:hover {\n",
              "      background-color: #E2EBFA;\n",
              "      box-shadow: 0px 1px 2px rgba(60, 64, 67, 0.3), 0px 1px 3px 1px rgba(60, 64, 67, 0.15);\n",
              "      fill: #174EA6;\n",
              "    }\n",
              "\n",
              "    [theme=dark] .colab-df-convert {\n",
              "      background-color: #3B4455;\n",
              "      fill: #D2E3FC;\n",
              "    }\n",
              "\n",
              "    [theme=dark] .colab-df-convert:hover {\n",
              "      background-color: #434B5C;\n",
              "      box-shadow: 0px 1px 3px 1px rgba(0, 0, 0, 0.15);\n",
              "      filter: drop-shadow(0px 1px 2px rgba(0, 0, 0, 0.3));\n",
              "      fill: #FFFFFF;\n",
              "    }\n",
              "  </style>\n",
              "\n",
              "      <script>\n",
              "        const buttonEl =\n",
              "          document.querySelector('#df-426f7b8b-f150-4014-9e33-e3b01f923b41 button.colab-df-convert');\n",
              "        buttonEl.style.display =\n",
              "          google.colab.kernel.accessAllowed ? 'block' : 'none';\n",
              "\n",
              "        async function convertToInteractive(key) {\n",
              "          const element = document.querySelector('#df-426f7b8b-f150-4014-9e33-e3b01f923b41');\n",
              "          const dataTable =\n",
              "            await google.colab.kernel.invokeFunction('convertToInteractive',\n",
              "                                                     [key], {});\n",
              "          if (!dataTable) return;\n",
              "\n",
              "          const docLinkHtml = 'Like what you see? Visit the ' +\n",
              "            '<a target=\"_blank\" href=https://colab.research.google.com/notebooks/data_table.ipynb>data table notebook</a>'\n",
              "            + ' to learn more about interactive tables.';\n",
              "          element.innerHTML = '';\n",
              "          dataTable['output_type'] = 'display_data';\n",
              "          await google.colab.output.renderOutput(dataTable, element);\n",
              "          const docLink = document.createElement('div');\n",
              "          docLink.innerHTML = docLinkHtml;\n",
              "          element.appendChild(docLink);\n",
              "        }\n",
              "      </script>\n",
              "    </div>\n",
              "  </div>\n",
              "  "
            ]
          },
          "metadata": {},
          "execution_count": 39
        }
      ]
    },
    {
      "cell_type": "code",
      "source": [
        "skin_df_balanced.info()"
      ],
      "metadata": {
        "colab": {
          "base_uri": "https://localhost:8080/"
        },
        "id": "new1Huu-GTiF",
        "outputId": "2b980148-f492-4125-96cc-276f0cc31f93"
      },
      "execution_count": null,
      "outputs": [
        {
          "output_type": "stream",
          "name": "stdout",
          "text": [
            "<class 'pandas.core.frame.DataFrame'>\n",
            "Int64Index: 3500 entries, 9789 to 2363\n",
            "Data columns (total 10 columns):\n",
            " #   Column        Non-Null Count  Dtype  \n",
            "---  ------        --------------  -----  \n",
            " 0   lesion_id     3500 non-null   object \n",
            " 1   image_id      3500 non-null   object \n",
            " 2   dx            3500 non-null   object \n",
            " 3   dx_type       3500 non-null   object \n",
            " 4   age           3488 non-null   float64\n",
            " 5   sex           3500 non-null   object \n",
            " 6   localization  3500 non-null   object \n",
            " 7   label         3500 non-null   int64  \n",
            " 8   path          3500 non-null   object \n",
            " 9   image         3500 non-null   object \n",
            "dtypes: float64(1), int64(1), object(8)\n",
            "memory usage: 300.8+ KB\n"
          ]
        }
      ]
    },
    {
      "cell_type": "code",
      "source": [
        "# fig, m_axs = plt.subplots(7, n_samples, figsize = (4*n_samples, 3*7))\n",
        "# for n_axs, (type_name, type_rows) in zip(m_axs, skin_df_balanced.sort_values(['dx']).groupby('dx')):\n",
        "#     n_axs[0].set_title(type_name)\n",
        "#     for c_ax, (_, c_row) in zip(n_axs, type_rows.sample(n_samples, random_state=1234).iterrows()):\n",
        "#         c_ax.imshow(c_row['image'])\n",
        "#         c_ax.axis('off')"
      ],
      "metadata": {
        "id": "WNZHJN3PGTmM"
      },
      "execution_count": null,
      "outputs": []
    },
    {
      "cell_type": "code",
      "source": [
        "#Convert dataframe column of images into numpy array\n",
        "\n",
        "# skin_df_balanced['image'].tolist()[0].shape\n",
        "# len(skin_df_balanced['image'].tolist()) # 3500\n",
        "# len(skin_df_balanced['image'].tolist()[0]) # 32\n",
        "# len(skin_df_balanced['image'].tolist()[0][0]) # 32\n",
        "# len(skin_df_balanced['image'].tolist()[0][0][0]) # 3"
      ],
      "metadata": {
        "id": "MXn5Dj6GGTqY"
      },
      "execution_count": null,
      "outputs": []
    },
    {
      "cell_type": "code",
      "source": [
        "X = np.asarray(skin_df_balanced['image'].tolist())"
      ],
      "metadata": {
        "id": "1oGGjpFyGTtm"
      },
      "execution_count": null,
      "outputs": []
    },
    {
      "cell_type": "code",
      "source": [
        "# Scale image (try also another method like Standard-Scaler)\n",
        "X = X/255."
      ],
      "metadata": {
        "id": "1hODwyBUGTxB"
      },
      "execution_count": null,
      "outputs": []
    },
    {
      "cell_type": "code",
      "source": [
        "X.shape"
      ],
      "metadata": {
        "colab": {
          "base_uri": "https://localhost:8080/"
        },
        "id": "Cz1W6LePGT0N",
        "outputId": "6f4ac22e-29e7-4e32-e28c-9f9029966820"
      },
      "execution_count": null,
      "outputs": [
        {
          "output_type": "execute_result",
          "data": {
            "text/plain": [
              "(3500, 32, 32, 3)"
            ]
          },
          "metadata": {},
          "execution_count": 43
        }
      ]
    },
    {
      "cell_type": "code",
      "source": [
        "X[0]"
      ],
      "metadata": {
        "colab": {
          "base_uri": "https://localhost:8080/"
        },
        "id": "n7HEvjH5GT4C",
        "outputId": "0d4aafff-b179-4eaa-a72c-b7e8bf186f59"
      },
      "execution_count": null,
      "outputs": [
        {
          "output_type": "execute_result",
          "data": {
            "text/plain": [
              "array([[[0.60784314, 0.4627451 , 0.41960784],\n",
              "        [0.63529412, 0.49411765, 0.4627451 ],\n",
              "        [0.68235294, 0.54901961, 0.54117647],\n",
              "        ...,\n",
              "        [0.62352941, 0.4627451 , 0.40392157],\n",
              "        [0.63137255, 0.50196078, 0.47058824],\n",
              "        [0.53333333, 0.43137255, 0.40784314]],\n",
              "\n",
              "       [[0.57647059, 0.41960784, 0.36470588],\n",
              "        [0.61176471, 0.45882353, 0.41176471],\n",
              "        [0.66666667, 0.52156863, 0.50196078],\n",
              "        ...,\n",
              "        [0.6745098 , 0.52156863, 0.4745098 ],\n",
              "        [0.69019608, 0.56078431, 0.52156863],\n",
              "        [0.6745098 , 0.56862745, 0.54509804]],\n",
              "\n",
              "       [[0.64705882, 0.51372549, 0.48235294],\n",
              "        [0.61176471, 0.45098039, 0.39215686],\n",
              "        [0.61176471, 0.44313725, 0.40392157],\n",
              "        ...,\n",
              "        [0.6745098 , 0.52156863, 0.45882353],\n",
              "        [0.65490196, 0.50980392, 0.44313725],\n",
              "        [0.63137255, 0.50588235, 0.48235294]],\n",
              "\n",
              "       ...,\n",
              "\n",
              "       [[0.56470588, 0.42352941, 0.35294118],\n",
              "        [0.58823529, 0.45098039, 0.37254902],\n",
              "        [0.60784314, 0.46666667, 0.38823529],\n",
              "        ...,\n",
              "        [0.71372549, 0.58039216, 0.5372549 ],\n",
              "        [0.71372549, 0.58431373, 0.5372549 ],\n",
              "        [0.72156863, 0.60784314, 0.57647059]],\n",
              "\n",
              "       [[0.56470588, 0.42745098, 0.34509804],\n",
              "        [0.58431373, 0.44705882, 0.37254902],\n",
              "        [0.6       , 0.45490196, 0.37647059],\n",
              "        ...,\n",
              "        [0.70980392, 0.56862745, 0.52156863],\n",
              "        [0.72941176, 0.60784314, 0.56862745],\n",
              "        [0.71372549, 0.60784314, 0.58431373]],\n",
              "\n",
              "       [[0.55294118, 0.41176471, 0.3372549 ],\n",
              "        [0.56470588, 0.41960784, 0.34509804],\n",
              "        [0.58823529, 0.44313725, 0.36470588],\n",
              "        ...,\n",
              "        [0.70196078, 0.57254902, 0.52156863],\n",
              "        [0.70588235, 0.59215686, 0.55686275],\n",
              "        [0.69803922, 0.59215686, 0.56470588]]])"
            ]
          },
          "metadata": {},
          "execution_count": 44
        }
      ]
    },
    {
      "cell_type": "code",
      "source": [
        "Y = skin_df_balanced['label']"
      ],
      "metadata": {
        "id": "1CKzqf0LGT7e"
      },
      "execution_count": null,
      "outputs": []
    },
    {
      "cell_type": "code",
      "source": [
        "Y.shape"
      ],
      "metadata": {
        "colab": {
          "base_uri": "https://localhost:8080/"
        },
        "id": "G27pHc78GT-t",
        "outputId": "fa7c09f6-c219-4b5f-c450-51d8a1eb19fa"
      },
      "execution_count": null,
      "outputs": [
        {
          "output_type": "execute_result",
          "data": {
            "text/plain": [
              "(3500,)"
            ]
          },
          "metadata": {},
          "execution_count": 46
        }
      ]
    },
    {
      "cell_type": "code",
      "source": [
        "Y.head(5)"
      ],
      "metadata": {
        "colab": {
          "base_uri": "https://localhost:8080/"
        },
        "id": "Rc6IobU_GUCU",
        "outputId": "a0ab51eb-48c1-4ea7-964e-31fa384239b0"
      },
      "execution_count": null,
      "outputs": [
        {
          "output_type": "execute_result",
          "data": {
            "text/plain": [
              "9789    0\n",
              "9957    0\n",
              "9793    0\n",
              "9758    0\n",
              "9875    0\n",
              "Name: label, dtype: int64"
            ]
          },
          "metadata": {},
          "execution_count": 47
        }
      ]
    },
    {
      "cell_type": "code",
      "source": [
        "Y_cat = to_categorical(Y, num_classes=7) # One-hot-encoding"
      ],
      "metadata": {
        "id": "a_rocQ0gGUFP"
      },
      "execution_count": null,
      "outputs": []
    },
    {
      "cell_type": "code",
      "source": [
        "Y_cat.shape"
      ],
      "metadata": {
        "colab": {
          "base_uri": "https://localhost:8080/"
        },
        "id": "f2nDlXDRGUIN",
        "outputId": "c380dc78-a95a-4c32-8221-60d1b154022d"
      },
      "execution_count": null,
      "outputs": [
        {
          "output_type": "execute_result",
          "data": {
            "text/plain": [
              "(3500, 7)"
            ]
          },
          "metadata": {},
          "execution_count": 49
        }
      ]
    },
    {
      "cell_type": "code",
      "source": [
        "Y_cat[3100:3110]"
      ],
      "metadata": {
        "colab": {
          "base_uri": "https://localhost:8080/"
        },
        "id": "bl8KYDlKGUKh",
        "outputId": "cd231766-adb9-4ac5-9eca-4ed06d012d3d"
      },
      "execution_count": null,
      "outputs": [
        {
          "output_type": "execute_result",
          "data": {
            "text/plain": [
              "array([[0., 0., 0., 0., 0., 0., 1.],\n",
              "       [0., 0., 0., 0., 0., 0., 1.],\n",
              "       [0., 0., 0., 0., 0., 0., 1.],\n",
              "       [0., 0., 0., 0., 0., 0., 1.],\n",
              "       [0., 0., 0., 0., 0., 0., 1.],\n",
              "       [0., 0., 0., 0., 0., 0., 1.],\n",
              "       [0., 0., 0., 0., 0., 0., 1.],\n",
              "       [0., 0., 0., 0., 0., 0., 1.],\n",
              "       [0., 0., 0., 0., 0., 0., 1.],\n",
              "       [0., 0., 0., 0., 0., 0., 1.]], dtype=float32)"
            ]
          },
          "metadata": {},
          "execution_count": 50
        }
      ]
    },
    {
      "cell_type": "code",
      "source": [
        "# split the dataset into training and testing data\n",
        "x_train, x_test, y_train, y_test = train_test_split(X, Y_cat, test_size=0.3, random_state=42)"
      ],
      "metadata": {
        "id": "fjy32LeEGUMx"
      },
      "execution_count": null,
      "outputs": []
    },
    {
      "cell_type": "code",
      "source": [
        "#Define the model.\n",
        "#I've used autokeras to find out the best model for this problem.\n",
        "#You can also load pretrained networks such as mobilenet or VGG16"
      ],
      "metadata": {
        "id": "HNKmXtsKGUPU"
      },
      "execution_count": null,
      "outputs": []
    },
    {
      "cell_type": "code",
      "source": [
        "# Create Model Layers\n",
        "num_classes = 7\n",
        "\n",
        "# 1st layer\n",
        "model = Sequential()\n",
        "model.add(Conv2D(256, (3,3), activation=\"relu\", input_shape=(SIZE,SIZE,3)))\n",
        "#model.add(BatchNormalization())\n",
        "model.add(MaxPool2D(pool_size=(2,2)))\n",
        "model.add(Dropout(0.3))\n",
        "\n",
        "\n",
        "model.add(Conv2D(128, (3, 3),activation='relu'))\n",
        "#model.add(BatchNormalization())\n",
        "model.add(MaxPool2D(pool_size=(2, 2)))\n",
        "model.add(Dropout(0.3))\n",
        "\n",
        "\n",
        "model.add(Conv2D(64, (3, 3),activation='relu'))\n",
        "#model.add(BatchNormalization())\n",
        "model.add(MaxPool2D(pool_size=(2, 2)))\n",
        "model.add(Dropout(0.3))\n",
        "model.add(Flatten())\n",
        "\n",
        "\n",
        "model.add(Dense(32))\n",
        "model.add(Dense(7, activation='softmax'))\n",
        "model.summary()"
      ],
      "metadata": {
        "colab": {
          "base_uri": "https://localhost:8080/"
        },
        "id": "9pBUfUaxGURr",
        "outputId": "f678df1e-3c4d-403e-87fb-bb566923de9a"
      },
      "execution_count": null,
      "outputs": [
        {
          "output_type": "stream",
          "name": "stdout",
          "text": [
            "Model: \"sequential\"\n",
            "_________________________________________________________________\n",
            " Layer (type)                Output Shape              Param #   \n",
            "=================================================================\n",
            " conv2d (Conv2D)             (None, 30, 30, 256)       7168      \n",
            "                                                                 \n",
            " max_pooling2d (MaxPooling2D  (None, 15, 15, 256)      0         \n",
            " )                                                               \n",
            "                                                                 \n",
            " dropout (Dropout)           (None, 15, 15, 256)       0         \n",
            "                                                                 \n",
            " conv2d_1 (Conv2D)           (None, 13, 13, 128)       295040    \n",
            "                                                                 \n",
            " max_pooling2d_1 (MaxPooling  (None, 6, 6, 128)        0         \n",
            " 2D)                                                             \n",
            "                                                                 \n",
            " dropout_1 (Dropout)         (None, 6, 6, 128)         0         \n",
            "                                                                 \n",
            " conv2d_2 (Conv2D)           (None, 4, 4, 64)          73792     \n",
            "                                                                 \n",
            " max_pooling2d_2 (MaxPooling  (None, 2, 2, 64)         0         \n",
            " 2D)                                                             \n",
            "                                                                 \n",
            " dropout_2 (Dropout)         (None, 2, 2, 64)          0         \n",
            "                                                                 \n",
            " flatten (Flatten)           (None, 256)               0         \n",
            "                                                                 \n",
            " dense (Dense)               (None, 32)                8224      \n",
            "                                                                 \n",
            " dense_1 (Dense)             (None, 7)                 231       \n",
            "                                                                 \n",
            "=================================================================\n",
            "Total params: 384,455\n",
            "Trainable params: 384,455\n",
            "Non-trainable params: 0\n",
            "_________________________________________________________________\n"
          ]
        }
      ]
    },
    {
      "cell_type": "code",
      "source": [
        "# Compile Model\n",
        "model.compile(loss='categorical_crossentropy', optimizer='Adam', metrics=['acc'])"
      ],
      "metadata": {
        "id": "-YaRPCekGvRw"
      },
      "execution_count": null,
      "outputs": []
    },
    {
      "cell_type": "code",
      "source": [
        "# Now Train Model\n",
        "batch_size = 16\n",
        "epochs = 100"
      ],
      "metadata": {
        "id": "p1TP85LEGvVN"
      },
      "execution_count": null,
      "outputs": []
    },
    {
      "cell_type": "code",
      "source": [
        "# train model\n",
        "history = model.fit(x_train, y_train, epochs=epochs, batch_size=batch_size, validation_data=(x_test, y_test), verbose=2)"
      ],
      "metadata": {
        "colab": {
          "base_uri": "https://localhost:8080/"
        },
        "id": "uVPk9_1hGvYn",
        "outputId": "f2c84730-c8b0-4ef8-fdb8-27f31fcdbcb0"
      },
      "execution_count": null,
      "outputs": [
        {
          "output_type": "stream",
          "name": "stdout",
          "text": [
            "Epoch 1/100\n",
            "154/154 - 10s - loss: 1.8742 - acc: 0.2078 - val_loss: 1.7869 - val_acc: 0.2486 - 10s/epoch - 66ms/step\n",
            "Epoch 2/100\n",
            "154/154 - 1s - loss: 1.6952 - acc: 0.3033 - val_loss: 1.6259 - val_acc: 0.3343 - 1s/epoch - 9ms/step\n",
            "Epoch 3/100\n",
            "154/154 - 1s - loss: 1.5276 - acc: 0.3690 - val_loss: 1.4759 - val_acc: 0.3810 - 1s/epoch - 8ms/step\n",
            "Epoch 4/100\n",
            "154/154 - 1s - loss: 1.4496 - acc: 0.4286 - val_loss: 1.5175 - val_acc: 0.3619 - 1s/epoch - 8ms/step\n",
            "Epoch 5/100\n",
            "154/154 - 1s - loss: 1.4244 - acc: 0.4335 - val_loss: 1.3569 - val_acc: 0.4314 - 1s/epoch - 9ms/step\n",
            "Epoch 6/100\n",
            "154/154 - 1s - loss: 1.3720 - acc: 0.4514 - val_loss: 1.4075 - val_acc: 0.4524 - 1s/epoch - 8ms/step\n",
            "Epoch 7/100\n",
            "154/154 - 1s - loss: 1.3361 - acc: 0.4804 - val_loss: 1.3112 - val_acc: 0.4667 - 1s/epoch - 7ms/step\n",
            "Epoch 8/100\n",
            "154/154 - 1s - loss: 1.2863 - acc: 0.5020 - val_loss: 1.3648 - val_acc: 0.4429 - 847ms/epoch - 5ms/step\n",
            "Epoch 9/100\n",
            "154/154 - 1s - loss: 1.2693 - acc: 0.5135 - val_loss: 1.4046 - val_acc: 0.4419 - 975ms/epoch - 6ms/step\n",
            "Epoch 10/100\n",
            "154/154 - 1s - loss: 1.2887 - acc: 0.4947 - val_loss: 1.2906 - val_acc: 0.4790 - 858ms/epoch - 6ms/step\n",
            "Epoch 11/100\n",
            "154/154 - 1s - loss: 1.2405 - acc: 0.5135 - val_loss: 1.2430 - val_acc: 0.4971 - 844ms/epoch - 5ms/step\n",
            "Epoch 12/100\n",
            "154/154 - 1s - loss: 1.1806 - acc: 0.5290 - val_loss: 1.2403 - val_acc: 0.5248 - 982ms/epoch - 6ms/step\n",
            "Epoch 13/100\n",
            "154/154 - 1s - loss: 1.1805 - acc: 0.5343 - val_loss: 1.3166 - val_acc: 0.4752 - 995ms/epoch - 6ms/step\n",
            "Epoch 14/100\n",
            "154/154 - 1s - loss: 1.2015 - acc: 0.5265 - val_loss: 1.1632 - val_acc: 0.5600 - 867ms/epoch - 6ms/step\n",
            "Epoch 15/100\n",
            "154/154 - 1s - loss: 1.1339 - acc: 0.5522 - val_loss: 1.1225 - val_acc: 0.5552 - 852ms/epoch - 6ms/step\n",
            "Epoch 16/100\n",
            "154/154 - 1s - loss: 1.1404 - acc: 0.5461 - val_loss: 1.1131 - val_acc: 0.5419 - 847ms/epoch - 6ms/step\n",
            "Epoch 17/100\n",
            "154/154 - 1s - loss: 1.0842 - acc: 0.5771 - val_loss: 1.0940 - val_acc: 0.5848 - 972ms/epoch - 6ms/step\n",
            "Epoch 18/100\n",
            "154/154 - 1s - loss: 1.0888 - acc: 0.5743 - val_loss: 1.1001 - val_acc: 0.5619 - 974ms/epoch - 6ms/step\n",
            "Epoch 19/100\n",
            "154/154 - 1s - loss: 1.0492 - acc: 0.5922 - val_loss: 1.1003 - val_acc: 0.5571 - 833ms/epoch - 5ms/step\n",
            "Epoch 20/100\n",
            "154/154 - 1s - loss: 1.0327 - acc: 0.5910 - val_loss: 1.0311 - val_acc: 0.6124 - 983ms/epoch - 6ms/step\n",
            "Epoch 21/100\n",
            "154/154 - 1s - loss: 1.0303 - acc: 0.6082 - val_loss: 1.0408 - val_acc: 0.5762 - 866ms/epoch - 6ms/step\n",
            "Epoch 22/100\n",
            "154/154 - 1s - loss: 1.0195 - acc: 0.6078 - val_loss: 1.0439 - val_acc: 0.6029 - 990ms/epoch - 6ms/step\n",
            "Epoch 23/100\n",
            "154/154 - 1s - loss: 1.0067 - acc: 0.6167 - val_loss: 0.9907 - val_acc: 0.6229 - 991ms/epoch - 6ms/step\n",
            "Epoch 24/100\n",
            "154/154 - 1s - loss: 0.9790 - acc: 0.6127 - val_loss: 0.9760 - val_acc: 0.6295 - 1s/epoch - 7ms/step\n",
            "Epoch 25/100\n",
            "154/154 - 1s - loss: 0.9631 - acc: 0.6192 - val_loss: 0.9758 - val_acc: 0.6248 - 1s/epoch - 7ms/step\n",
            "Epoch 26/100\n",
            "154/154 - 1s - loss: 0.9563 - acc: 0.6363 - val_loss: 0.9677 - val_acc: 0.6438 - 1s/epoch - 7ms/step\n",
            "Epoch 27/100\n",
            "154/154 - 1s - loss: 0.9418 - acc: 0.6343 - val_loss: 0.9960 - val_acc: 0.5962 - 1s/epoch - 7ms/step\n",
            "Epoch 28/100\n",
            "154/154 - 1s - loss: 0.8950 - acc: 0.6576 - val_loss: 1.0403 - val_acc: 0.5943 - 858ms/epoch - 6ms/step\n",
            "Epoch 29/100\n",
            "154/154 - 1s - loss: 0.9109 - acc: 0.6498 - val_loss: 0.9188 - val_acc: 0.6590 - 843ms/epoch - 5ms/step\n",
            "Epoch 30/100\n",
            "154/154 - 1s - loss: 0.9011 - acc: 0.6527 - val_loss: 0.9510 - val_acc: 0.6429 - 988ms/epoch - 6ms/step\n",
            "Epoch 31/100\n",
            "154/154 - 1s - loss: 0.8574 - acc: 0.6698 - val_loss: 0.9070 - val_acc: 0.6838 - 850ms/epoch - 6ms/step\n",
            "Epoch 32/100\n",
            "154/154 - 1s - loss: 0.8359 - acc: 0.6906 - val_loss: 0.9595 - val_acc: 0.6571 - 864ms/epoch - 6ms/step\n",
            "Epoch 33/100\n",
            "154/154 - 1s - loss: 0.8521 - acc: 0.6763 - val_loss: 0.9411 - val_acc: 0.6610 - 857ms/epoch - 6ms/step\n",
            "Epoch 34/100\n",
            "154/154 - 1s - loss: 0.8519 - acc: 0.6686 - val_loss: 0.9747 - val_acc: 0.6257 - 1s/epoch - 7ms/step\n",
            "Epoch 35/100\n",
            "154/154 - 1s - loss: 0.8473 - acc: 0.6743 - val_loss: 0.9263 - val_acc: 0.6743 - 982ms/epoch - 6ms/step\n",
            "Epoch 36/100\n",
            "154/154 - 1s - loss: 0.7928 - acc: 0.6939 - val_loss: 0.8692 - val_acc: 0.6933 - 980ms/epoch - 6ms/step\n",
            "Epoch 37/100\n",
            "154/154 - 1s - loss: 0.7827 - acc: 0.7061 - val_loss: 0.8662 - val_acc: 0.7067 - 971ms/epoch - 6ms/step\n",
            "Epoch 38/100\n",
            "154/154 - 1s - loss: 0.8179 - acc: 0.6902 - val_loss: 0.9424 - val_acc: 0.6676 - 1s/epoch - 7ms/step\n",
            "Epoch 39/100\n",
            "154/154 - 1s - loss: 0.7481 - acc: 0.7110 - val_loss: 0.8616 - val_acc: 0.7048 - 988ms/epoch - 6ms/step\n",
            "Epoch 40/100\n",
            "154/154 - 1s - loss: 0.7941 - acc: 0.6976 - val_loss: 0.8760 - val_acc: 0.6895 - 977ms/epoch - 6ms/step\n",
            "Epoch 41/100\n",
            "154/154 - 1s - loss: 0.7509 - acc: 0.7180 - val_loss: 0.8124 - val_acc: 0.7305 - 848ms/epoch - 6ms/step\n",
            "Epoch 42/100\n",
            "154/154 - 1s - loss: 0.7245 - acc: 0.7245 - val_loss: 0.8182 - val_acc: 0.7095 - 981ms/epoch - 6ms/step\n",
            "Epoch 43/100\n",
            "154/154 - 1s - loss: 0.7523 - acc: 0.7082 - val_loss: 0.8473 - val_acc: 0.7029 - 996ms/epoch - 6ms/step\n",
            "Epoch 44/100\n",
            "154/154 - 1s - loss: 0.7138 - acc: 0.7376 - val_loss: 0.8321 - val_acc: 0.7143 - 863ms/epoch - 6ms/step\n",
            "Epoch 45/100\n",
            "154/154 - 1s - loss: 0.7129 - acc: 0.7302 - val_loss: 0.8191 - val_acc: 0.7162 - 851ms/epoch - 6ms/step\n",
            "Epoch 46/100\n",
            "154/154 - 1s - loss: 0.6985 - acc: 0.7392 - val_loss: 0.8553 - val_acc: 0.7000 - 851ms/epoch - 6ms/step\n",
            "Epoch 47/100\n",
            "154/154 - 1s - loss: 0.6969 - acc: 0.7453 - val_loss: 0.8184 - val_acc: 0.7076 - 986ms/epoch - 6ms/step\n",
            "Epoch 48/100\n",
            "154/154 - 1s - loss: 0.6893 - acc: 0.7351 - val_loss: 0.8203 - val_acc: 0.7248 - 843ms/epoch - 5ms/step\n",
            "Epoch 49/100\n",
            "154/154 - 1s - loss: 0.6925 - acc: 0.7396 - val_loss: 0.8243 - val_acc: 0.7181 - 1s/epoch - 7ms/step\n",
            "Epoch 50/100\n",
            "154/154 - 1s - loss: 0.6684 - acc: 0.7359 - val_loss: 0.8035 - val_acc: 0.7276 - 987ms/epoch - 6ms/step\n",
            "Epoch 51/100\n",
            "154/154 - 1s - loss: 0.6803 - acc: 0.7424 - val_loss: 0.8005 - val_acc: 0.7219 - 858ms/epoch - 6ms/step\n",
            "Epoch 52/100\n",
            "154/154 - 1s - loss: 0.6448 - acc: 0.7502 - val_loss: 0.8744 - val_acc: 0.6876 - 842ms/epoch - 5ms/step\n",
            "Epoch 53/100\n",
            "154/154 - 1s - loss: 0.6532 - acc: 0.7506 - val_loss: 0.7987 - val_acc: 0.7019 - 849ms/epoch - 6ms/step\n",
            "Epoch 54/100\n",
            "154/154 - 1s - loss: 0.6061 - acc: 0.7649 - val_loss: 0.8209 - val_acc: 0.7162 - 854ms/epoch - 6ms/step\n",
            "Epoch 55/100\n",
            "154/154 - 1s - loss: 0.5990 - acc: 0.7735 - val_loss: 0.8064 - val_acc: 0.7352 - 853ms/epoch - 6ms/step\n",
            "Epoch 56/100\n",
            "154/154 - 1s - loss: 0.6345 - acc: 0.7616 - val_loss: 0.8161 - val_acc: 0.7248 - 857ms/epoch - 6ms/step\n",
            "Epoch 57/100\n",
            "154/154 - 1s - loss: 0.6159 - acc: 0.7657 - val_loss: 0.7887 - val_acc: 0.7133 - 860ms/epoch - 6ms/step\n",
            "Epoch 58/100\n",
            "154/154 - 1s - loss: 0.5942 - acc: 0.7784 - val_loss: 0.7914 - val_acc: 0.7429 - 973ms/epoch - 6ms/step\n",
            "Epoch 59/100\n",
            "154/154 - 1s - loss: 0.5964 - acc: 0.7710 - val_loss: 0.7829 - val_acc: 0.7390 - 1s/epoch - 8ms/step\n",
            "Epoch 60/100\n",
            "154/154 - 1s - loss: 0.6331 - acc: 0.7649 - val_loss: 0.7761 - val_acc: 0.7410 - 867ms/epoch - 6ms/step\n",
            "Epoch 61/100\n",
            "154/154 - 1s - loss: 0.5837 - acc: 0.7878 - val_loss: 0.7812 - val_acc: 0.7448 - 998ms/epoch - 6ms/step\n",
            "Epoch 62/100\n",
            "154/154 - 1s - loss: 0.5724 - acc: 0.7808 - val_loss: 0.7703 - val_acc: 0.7514 - 996ms/epoch - 6ms/step\n",
            "Epoch 63/100\n",
            "154/154 - 1s - loss: 0.5930 - acc: 0.7788 - val_loss: 0.7827 - val_acc: 0.7390 - 980ms/epoch - 6ms/step\n",
            "Epoch 64/100\n",
            "154/154 - 1s - loss: 0.6144 - acc: 0.7743 - val_loss: 0.7491 - val_acc: 0.7514 - 982ms/epoch - 6ms/step\n",
            "Epoch 65/100\n",
            "154/154 - 1s - loss: 0.5646 - acc: 0.7849 - val_loss: 0.7971 - val_acc: 0.7362 - 845ms/epoch - 5ms/step\n",
            "Epoch 66/100\n",
            "154/154 - 1s - loss: 0.5426 - acc: 0.7931 - val_loss: 0.7858 - val_acc: 0.7314 - 994ms/epoch - 6ms/step\n",
            "Epoch 67/100\n",
            "154/154 - 1s - loss: 0.5916 - acc: 0.7910 - val_loss: 0.7686 - val_acc: 0.7390 - 849ms/epoch - 6ms/step\n",
            "Epoch 68/100\n",
            "154/154 - 1s - loss: 0.5549 - acc: 0.7841 - val_loss: 0.7350 - val_acc: 0.7610 - 848ms/epoch - 6ms/step\n",
            "Epoch 69/100\n",
            "154/154 - 1s - loss: 0.5880 - acc: 0.7841 - val_loss: 0.7629 - val_acc: 0.7524 - 851ms/epoch - 6ms/step\n",
            "Epoch 70/100\n",
            "154/154 - 1s - loss: 0.5706 - acc: 0.7845 - val_loss: 0.7461 - val_acc: 0.7543 - 997ms/epoch - 6ms/step\n",
            "Epoch 71/100\n",
            "154/154 - 1s - loss: 0.5291 - acc: 0.7976 - val_loss: 0.7730 - val_acc: 0.7457 - 859ms/epoch - 6ms/step\n",
            "Epoch 72/100\n",
            "154/154 - 1s - loss: 0.5636 - acc: 0.7853 - val_loss: 0.7783 - val_acc: 0.7495 - 879ms/epoch - 6ms/step\n",
            "Epoch 73/100\n",
            "154/154 - 1s - loss: 0.6009 - acc: 0.7812 - val_loss: 0.7588 - val_acc: 0.7419 - 846ms/epoch - 5ms/step\n",
            "Epoch 74/100\n",
            "154/154 - 1s - loss: 0.5240 - acc: 0.8082 - val_loss: 0.7832 - val_acc: 0.7467 - 865ms/epoch - 6ms/step\n",
            "Epoch 75/100\n",
            "154/154 - 1s - loss: 0.5167 - acc: 0.8127 - val_loss: 0.7159 - val_acc: 0.7638 - 857ms/epoch - 6ms/step\n",
            "Epoch 76/100\n",
            "154/154 - 1s - loss: 0.4892 - acc: 0.8204 - val_loss: 0.7456 - val_acc: 0.7610 - 989ms/epoch - 6ms/step\n",
            "Epoch 77/100\n",
            "154/154 - 1s - loss: 0.5234 - acc: 0.8012 - val_loss: 0.7735 - val_acc: 0.7505 - 997ms/epoch - 6ms/step\n",
            "Epoch 78/100\n",
            "154/154 - 1s - loss: 0.5408 - acc: 0.8057 - val_loss: 0.7283 - val_acc: 0.7543 - 991ms/epoch - 6ms/step\n",
            "Epoch 79/100\n",
            "154/154 - 1s - loss: 0.5143 - acc: 0.8041 - val_loss: 0.8084 - val_acc: 0.7429 - 1s/epoch - 7ms/step\n",
            "Epoch 80/100\n",
            "154/154 - 1s - loss: 0.5310 - acc: 0.8024 - val_loss: 0.7748 - val_acc: 0.7610 - 863ms/epoch - 6ms/step\n",
            "Epoch 81/100\n",
            "154/154 - 1s - loss: 0.5008 - acc: 0.8073 - val_loss: 0.7731 - val_acc: 0.7524 - 874ms/epoch - 6ms/step\n",
            "Epoch 82/100\n",
            "154/154 - 1s - loss: 0.4980 - acc: 0.8086 - val_loss: 0.7598 - val_acc: 0.7600 - 1s/epoch - 7ms/step\n",
            "Epoch 83/100\n",
            "154/154 - 2s - loss: 0.5013 - acc: 0.8020 - val_loss: 0.8325 - val_acc: 0.7429 - 2s/epoch - 11ms/step\n",
            "Epoch 84/100\n",
            "154/154 - 2s - loss: 0.4646 - acc: 0.8269 - val_loss: 0.7161 - val_acc: 0.7686 - 2s/epoch - 11ms/step\n",
            "Epoch 85/100\n",
            "154/154 - 1s - loss: 0.5003 - acc: 0.8163 - val_loss: 0.7612 - val_acc: 0.7724 - 1s/epoch - 8ms/step\n",
            "Epoch 86/100\n",
            "154/154 - 1s - loss: 0.4862 - acc: 0.8208 - val_loss: 0.7189 - val_acc: 0.7667 - 860ms/epoch - 6ms/step\n",
            "Epoch 87/100\n",
            "154/154 - 1s - loss: 0.5335 - acc: 0.8078 - val_loss: 0.7694 - val_acc: 0.7467 - 854ms/epoch - 6ms/step\n",
            "Epoch 88/100\n",
            "154/154 - 1s - loss: 0.4869 - acc: 0.8188 - val_loss: 0.7495 - val_acc: 0.7724 - 849ms/epoch - 6ms/step\n",
            "Epoch 89/100\n",
            "154/154 - 1s - loss: 0.4794 - acc: 0.8220 - val_loss: 0.7579 - val_acc: 0.7581 - 850ms/epoch - 6ms/step\n",
            "Epoch 90/100\n",
            "154/154 - 1s - loss: 0.4946 - acc: 0.8229 - val_loss: 0.8015 - val_acc: 0.7438 - 994ms/epoch - 6ms/step\n",
            "Epoch 91/100\n",
            "154/154 - 1s - loss: 0.4948 - acc: 0.8176 - val_loss: 0.7721 - val_acc: 0.7543 - 979ms/epoch - 6ms/step\n",
            "Epoch 92/100\n",
            "154/154 - 1s - loss: 0.4454 - acc: 0.8314 - val_loss: 0.7915 - val_acc: 0.7514 - 979ms/epoch - 6ms/step\n",
            "Epoch 93/100\n",
            "154/154 - 1s - loss: 0.4401 - acc: 0.8380 - val_loss: 0.7424 - val_acc: 0.7667 - 855ms/epoch - 6ms/step\n",
            "Epoch 94/100\n",
            "154/154 - 1s - loss: 0.4540 - acc: 0.8384 - val_loss: 0.7885 - val_acc: 0.7486 - 993ms/epoch - 6ms/step\n",
            "Epoch 95/100\n",
            "154/154 - 1s - loss: 0.4549 - acc: 0.8400 - val_loss: 0.8055 - val_acc: 0.7590 - 854ms/epoch - 6ms/step\n",
            "Epoch 96/100\n",
            "154/154 - 1s - loss: 0.4444 - acc: 0.8355 - val_loss: 0.7716 - val_acc: 0.7629 - 984ms/epoch - 6ms/step\n",
            "Epoch 97/100\n",
            "154/154 - 1s - loss: 0.4155 - acc: 0.8543 - val_loss: 0.7308 - val_acc: 0.7695 - 987ms/epoch - 6ms/step\n",
            "Epoch 98/100\n",
            "154/154 - 1s - loss: 0.4135 - acc: 0.8522 - val_loss: 0.7677 - val_acc: 0.7590 - 991ms/epoch - 6ms/step\n",
            "Epoch 99/100\n",
            "154/154 - 1s - loss: 0.4134 - acc: 0.8518 - val_loss: 0.7507 - val_acc: 0.7743 - 985ms/epoch - 6ms/step\n",
            "Epoch 100/100\n",
            "154/154 - 1s - loss: 0.4513 - acc: 0.8310 - val_loss: 0.7436 - val_acc: 0.7790 - 986ms/epoch - 6ms/step\n"
          ]
        }
      ]
    },
    {
      "cell_type": "markdown",
      "source": [
        "# Check Accuracy"
      ],
      "metadata": {
        "id": "YK9YlWXDNHsh"
      }
    },
    {
      "cell_type": "code",
      "source": [
        "# Check Accuracy Score\n",
        "score = model.evaluate(x_test, y_test)\n",
        "print('Accuracy : ', score[1])"
      ],
      "metadata": {
        "colab": {
          "base_uri": "https://localhost:8080/"
        },
        "id": "yTLii6pgGvcS",
        "outputId": "1814c034-0611-42e0-ae38-da545a029781"
      },
      "execution_count": null,
      "outputs": [
        {
          "output_type": "stream",
          "name": "stdout",
          "text": [
            "33/33 [==============================] - 0s 7ms/step - loss: 0.7436 - acc: 0.7790\n",
            "Accuracy :  0.7790476083755493\n"
          ]
        }
      ]
    },
    {
      "cell_type": "code",
      "source": [
        "history.history"
      ],
      "metadata": {
        "colab": {
          "base_uri": "https://localhost:8080/"
        },
        "id": "B-8GmdI2GviA",
        "outputId": "4d3963cd-b93c-48f2-a69a-001646861dcc"
      },
      "execution_count": null,
      "outputs": [
        {
          "output_type": "execute_result",
          "data": {
            "text/plain": [
              "{'loss': [1.874220371246338,\n",
              "  1.695168375968933,\n",
              "  1.527573585510254,\n",
              "  1.4496302604675293,\n",
              "  1.4244129657745361,\n",
              "  1.3720066547393799,\n",
              "  1.3360645771026611,\n",
              "  1.28630793094635,\n",
              "  1.2692627906799316,\n",
              "  1.2887306213378906,\n",
              "  1.2404615879058838,\n",
              "  1.1805921792984009,\n",
              "  1.18049955368042,\n",
              "  1.201521873474121,\n",
              "  1.1339277029037476,\n",
              "  1.1403604745864868,\n",
              "  1.084242820739746,\n",
              "  1.0887537002563477,\n",
              "  1.0491968393325806,\n",
              "  1.0326884984970093,\n",
              "  1.0303088426589966,\n",
              "  1.0195449590682983,\n",
              "  1.0066767930984497,\n",
              "  0.9790055155754089,\n",
              "  0.963058352470398,\n",
              "  0.9562711119651794,\n",
              "  0.9417951703071594,\n",
              "  0.8950362801551819,\n",
              "  0.910858690738678,\n",
              "  0.9010862708091736,\n",
              "  0.8574070334434509,\n",
              "  0.8358858227729797,\n",
              "  0.8520628213882446,\n",
              "  0.8519033789634705,\n",
              "  0.8473317623138428,\n",
              "  0.7927747964859009,\n",
              "  0.7827498316764832,\n",
              "  0.8178701400756836,\n",
              "  0.7480930685997009,\n",
              "  0.794135570526123,\n",
              "  0.7508916258811951,\n",
              "  0.7245228886604309,\n",
              "  0.7523372769355774,\n",
              "  0.7137814164161682,\n",
              "  0.7128674983978271,\n",
              "  0.6985284686088562,\n",
              "  0.696879506111145,\n",
              "  0.6892620325088501,\n",
              "  0.6925262808799744,\n",
              "  0.6683529615402222,\n",
              "  0.6803465485572815,\n",
              "  0.6447733640670776,\n",
              "  0.6532294154167175,\n",
              "  0.6061132550239563,\n",
              "  0.598983883857727,\n",
              "  0.6344985365867615,\n",
              "  0.615923285484314,\n",
              "  0.5941567420959473,\n",
              "  0.5963857173919678,\n",
              "  0.6330908536911011,\n",
              "  0.583704948425293,\n",
              "  0.5723732709884644,\n",
              "  0.5930469036102295,\n",
              "  0.6144409775733948,\n",
              "  0.5645639896392822,\n",
              "  0.5425501465797424,\n",
              "  0.5916000008583069,\n",
              "  0.5548943281173706,\n",
              "  0.5879944562911987,\n",
              "  0.5705795288085938,\n",
              "  0.5290969014167786,\n",
              "  0.5636184215545654,\n",
              "  0.6009019017219543,\n",
              "  0.5239797234535217,\n",
              "  0.516709566116333,\n",
              "  0.4891807436943054,\n",
              "  0.5234376192092896,\n",
              "  0.5408143401145935,\n",
              "  0.5142859220504761,\n",
              "  0.5309731364250183,\n",
              "  0.5008345246315002,\n",
              "  0.4980352520942688,\n",
              "  0.5012820959091187,\n",
              "  0.46459871530532837,\n",
              "  0.5003034472465515,\n",
              "  0.4862406849861145,\n",
              "  0.5335299372673035,\n",
              "  0.486895889043808,\n",
              "  0.4794260561466217,\n",
              "  0.49462372064590454,\n",
              "  0.494780033826828,\n",
              "  0.4453679621219635,\n",
              "  0.4401056170463562,\n",
              "  0.45397141575813293,\n",
              "  0.4549102783203125,\n",
              "  0.4443577527999878,\n",
              "  0.41552695631980896,\n",
              "  0.41353946924209595,\n",
              "  0.41343823075294495,\n",
              "  0.45131736993789673],\n",
              " 'acc': [0.20775510370731354,\n",
              "  0.3032653033733368,\n",
              "  0.3689796030521393,\n",
              "  0.4285714328289032,\n",
              "  0.43346938490867615,\n",
              "  0.4514285624027252,\n",
              "  0.4804081618785858,\n",
              "  0.5020408034324646,\n",
              "  0.513469398021698,\n",
              "  0.4946938753128052,\n",
              "  0.513469398021698,\n",
              "  0.5289795994758606,\n",
              "  0.5342857241630554,\n",
              "  0.5265306234359741,\n",
              "  0.5522449016571045,\n",
              "  0.5461224317550659,\n",
              "  0.5771428346633911,\n",
              "  0.5742856860160828,\n",
              "  0.5922449231147766,\n",
              "  0.591020405292511,\n",
              "  0.6081632375717163,\n",
              "  0.6077551245689392,\n",
              "  0.6167346835136414,\n",
              "  0.6126530766487122,\n",
              "  0.6191836595535278,\n",
              "  0.6363265514373779,\n",
              "  0.6342856884002686,\n",
              "  0.6575510501861572,\n",
              "  0.6497958898544312,\n",
              "  0.6526530385017395,\n",
              "  0.6697959303855896,\n",
              "  0.690612256526947,\n",
              "  0.6763265132904053,\n",
              "  0.668571412563324,\n",
              "  0.6742857098579407,\n",
              "  0.6938775777816772,\n",
              "  0.7061224579811096,\n",
              "  0.6902040839195251,\n",
              "  0.7110204100608826,\n",
              "  0.6975510120391846,\n",
              "  0.7179591655731201,\n",
              "  0.7244898080825806,\n",
              "  0.7081632614135742,\n",
              "  0.7375510334968567,\n",
              "  0.7302041053771973,\n",
              "  0.7391836643218994,\n",
              "  0.745306134223938,\n",
              "  0.7351020574569702,\n",
              "  0.7395918369293213,\n",
              "  0.7359183430671692,\n",
              "  0.7424489855766296,\n",
              "  0.7502040863037109,\n",
              "  0.7506122589111328,\n",
              "  0.7648979425430298,\n",
              "  0.7734693884849548,\n",
              "  0.7616326808929443,\n",
              "  0.7657142877578735,\n",
              "  0.7783673405647278,\n",
              "  0.7710204124450684,\n",
              "  0.7648979425430298,\n",
              "  0.7877551317214966,\n",
              "  0.7808163166046143,\n",
              "  0.7787755131721497,\n",
              "  0.7742857336997986,\n",
              "  0.7848979830741882,\n",
              "  0.7930611968040466,\n",
              "  0.791020393371582,\n",
              "  0.7840816378593445,\n",
              "  0.7840816378593445,\n",
              "  0.7844898104667664,\n",
              "  0.7975510358810425,\n",
              "  0.7853060960769653,\n",
              "  0.7812244892120361,\n",
              "  0.8081632852554321,\n",
              "  0.8126530647277832,\n",
              "  0.8204081654548645,\n",
              "  0.8012244701385498,\n",
              "  0.8057143092155457,\n",
              "  0.8040816187858582,\n",
              "  0.8024489879608154,\n",
              "  0.8073469400405884,\n",
              "  0.808571457862854,\n",
              "  0.8020408153533936,\n",
              "  0.8269387483596802,\n",
              "  0.8163265585899353,\n",
              "  0.8208163380622864,\n",
              "  0.8077551126480103,\n",
              "  0.8187755346298218,\n",
              "  0.8220407962799072,\n",
              "  0.822857141494751,\n",
              "  0.8175510168075562,\n",
              "  0.831428587436676,\n",
              "  0.8379591703414917,\n",
              "  0.8383673429489136,\n",
              "  0.8399999737739563,\n",
              "  0.8355101943016052,\n",
              "  0.854285717010498,\n",
              "  0.8522449135780334,\n",
              "  0.8518367409706116,\n",
              "  0.8310204148292542],\n",
              " 'val_loss': [1.786866545677185,\n",
              "  1.6258618831634521,\n",
              "  1.4758613109588623,\n",
              "  1.5175433158874512,\n",
              "  1.3569461107254028,\n",
              "  1.4075130224227905,\n",
              "  1.311161994934082,\n",
              "  1.3648489713668823,\n",
              "  1.4046303033828735,\n",
              "  1.290647029876709,\n",
              "  1.2429783344268799,\n",
              "  1.2402883768081665,\n",
              "  1.3165879249572754,\n",
              "  1.1632014513015747,\n",
              "  1.1225340366363525,\n",
              "  1.1130517721176147,\n",
              "  1.093977451324463,\n",
              "  1.1000878810882568,\n",
              "  1.100250005722046,\n",
              "  1.031077265739441,\n",
              "  1.0407705307006836,\n",
              "  1.043908715248108,\n",
              "  0.9907163977622986,\n",
              "  0.9759716987609863,\n",
              "  0.9758009910583496,\n",
              "  0.9676555395126343,\n",
              "  0.9960405230522156,\n",
              "  1.0403013229370117,\n",
              "  0.9188189506530762,\n",
              "  0.9509955644607544,\n",
              "  0.9070056676864624,\n",
              "  0.9595475196838379,\n",
              "  0.9411196708679199,\n",
              "  0.9747008085250854,\n",
              "  0.9262982606887817,\n",
              "  0.8691576719284058,\n",
              "  0.8661825060844421,\n",
              "  0.9423834085464478,\n",
              "  0.8616414070129395,\n",
              "  0.8759921193122864,\n",
              "  0.812416672706604,\n",
              "  0.8182488679885864,\n",
              "  0.8472973108291626,\n",
              "  0.8321206569671631,\n",
              "  0.819057822227478,\n",
              "  0.8552867770195007,\n",
              "  0.8184117078781128,\n",
              "  0.8203158378601074,\n",
              "  0.8243098855018616,\n",
              "  0.8035178184509277,\n",
              "  0.8005204200744629,\n",
              "  0.8744006752967834,\n",
              "  0.7987179160118103,\n",
              "  0.820855975151062,\n",
              "  0.8063625693321228,\n",
              "  0.8161207437515259,\n",
              "  0.7887130379676819,\n",
              "  0.7913806438446045,\n",
              "  0.7829186916351318,\n",
              "  0.7760730385780334,\n",
              "  0.7811523079872131,\n",
              "  0.7702687978744507,\n",
              "  0.7826700210571289,\n",
              "  0.7490771412849426,\n",
              "  0.7970632314682007,\n",
              "  0.7858248949050903,\n",
              "  0.7685573697090149,\n",
              "  0.7350131869316101,\n",
              "  0.7629392743110657,\n",
              "  0.7460917234420776,\n",
              "  0.7730037569999695,\n",
              "  0.7782524228096008,\n",
              "  0.7588376998901367,\n",
              "  0.7832085490226746,\n",
              "  0.7159409523010254,\n",
              "  0.745627224445343,\n",
              "  0.7735287547111511,\n",
              "  0.7282580733299255,\n",
              "  0.8084055185317993,\n",
              "  0.7748024463653564,\n",
              "  0.7731320261955261,\n",
              "  0.7598128318786621,\n",
              "  0.8325092792510986,\n",
              "  0.7161340713500977,\n",
              "  0.761214017868042,\n",
              "  0.7189390063285828,\n",
              "  0.7694246172904968,\n",
              "  0.7495296001434326,\n",
              "  0.7579473853111267,\n",
              "  0.8015005588531494,\n",
              "  0.7720872759819031,\n",
              "  0.7914686799049377,\n",
              "  0.7423796653747559,\n",
              "  0.7885255217552185,\n",
              "  0.8055071830749512,\n",
              "  0.7716138362884521,\n",
              "  0.7307719588279724,\n",
              "  0.7676529884338379,\n",
              "  0.7506862282752991,\n",
              "  0.7435849905014038],\n",
              " 'val_acc': [0.24857142567634583,\n",
              "  0.334285706281662,\n",
              "  0.380952388048172,\n",
              "  0.3619047701358795,\n",
              "  0.43142858147621155,\n",
              "  0.4523809552192688,\n",
              "  0.46666666865348816,\n",
              "  0.44285714626312256,\n",
              "  0.441904753446579,\n",
              "  0.47904762625694275,\n",
              "  0.49714285135269165,\n",
              "  0.5247619152069092,\n",
              "  0.4752380847930908,\n",
              "  0.5600000023841858,\n",
              "  0.5552380681037903,\n",
              "  0.5419047474861145,\n",
              "  0.584761917591095,\n",
              "  0.561904788017273,\n",
              "  0.5571428537368774,\n",
              "  0.6123809814453125,\n",
              "  0.5761904716491699,\n",
              "  0.6028571724891663,\n",
              "  0.6228571534156799,\n",
              "  0.6295238137245178,\n",
              "  0.6247618794441223,\n",
              "  0.6438094973564148,\n",
              "  0.5961904525756836,\n",
              "  0.5942857265472412,\n",
              "  0.6590476036071777,\n",
              "  0.6428571343421936,\n",
              "  0.6838095188140869,\n",
              "  0.6571428775787354,\n",
              "  0.6609523892402649,\n",
              "  0.6257143020629883,\n",
              "  0.6742857098579407,\n",
              "  0.6933333277702332,\n",
              "  0.7066666483879089,\n",
              "  0.6676190495491028,\n",
              "  0.7047619223594666,\n",
              "  0.6895238161087036,\n",
              "  0.7304762005805969,\n",
              "  0.7095237970352173,\n",
              "  0.7028571367263794,\n",
              "  0.7142857313156128,\n",
              "  0.7161904573440552,\n",
              "  0.699999988079071,\n",
              "  0.7076190710067749,\n",
              "  0.7247619032859802,\n",
              "  0.7180952429771423,\n",
              "  0.7276190519332886,\n",
              "  0.7219047546386719,\n",
              "  0.6876190304756165,\n",
              "  0.7019047737121582,\n",
              "  0.7161904573440552,\n",
              "  0.7352380752563477,\n",
              "  0.7247619032859802,\n",
              "  0.7133333086967468,\n",
              "  0.7428571581840515,\n",
              "  0.739047646522522,\n",
              "  0.7409523725509644,\n",
              "  0.7447618842124939,\n",
              "  0.7514285445213318,\n",
              "  0.739047646522522,\n",
              "  0.7514285445213318,\n",
              "  0.7361904978752136,\n",
              "  0.7314285635948181,\n",
              "  0.739047646522522,\n",
              "  0.760952353477478,\n",
              "  0.7523809671401978,\n",
              "  0.7542856931686401,\n",
              "  0.7457143068313599,\n",
              "  0.7495238184928894,\n",
              "  0.7419047355651855,\n",
              "  0.746666669845581,\n",
              "  0.7638095021247864,\n",
              "  0.760952353477478,\n",
              "  0.7504761815071106,\n",
              "  0.7542856931686401,\n",
              "  0.7428571581840515,\n",
              "  0.760952353477478,\n",
              "  0.7523809671401978,\n",
              "  0.7599999904632568,\n",
              "  0.7428571581840515,\n",
              "  0.7685714364051819,\n",
              "  0.7723809480667114,\n",
              "  0.7666666507720947,\n",
              "  0.746666669845581,\n",
              "  0.7723809480667114,\n",
              "  0.7580952644348145,\n",
              "  0.7438095211982727,\n",
              "  0.7542856931686401,\n",
              "  0.7514285445213318,\n",
              "  0.7666666507720947,\n",
              "  0.7485714554786682,\n",
              "  0.7590476274490356,\n",
              "  0.7628571391105652,\n",
              "  0.7695237994194031,\n",
              "  0.7590476274490356,\n",
              "  0.7742857336997986,\n",
              "  0.7790476083755493]}"
            ]
          },
          "metadata": {},
          "execution_count": 57
        }
      ]
    },
    {
      "cell_type": "code",
      "source": [
        "#plot the training and validation accuracy and loss at each epoch\n",
        "loss = history.history['loss']\n",
        "val_loss = history.history['val_loss']\n",
        "accu = history.history['acc']\n",
        "val_accu = history.history['val_acc']\n",
        "epochs_size = range(1, len(loss)+1)"
      ],
      "metadata": {
        "id": "9ua6AVrrGvk5"
      },
      "execution_count": null,
      "outputs": []
    },
    {
      "cell_type": "code",
      "source": [
        "# Training and Validation Loss\n",
        "plt.plot(epochs_size, loss, 'b', label=\"Training Loss\")\n",
        "plt.plot(epochs_size, val_loss, 'r', label=\"Validation Loss\")\n",
        "plt.title('Training and Validation Loss')\n",
        "plt.xlabel('Epochs')\n",
        "plt.ylabel('Loss')\n",
        "plt.legend()\n",
        "plt.show()"
      ],
      "metadata": {
        "colab": {
          "base_uri": "https://localhost:8080/",
          "height": 295
        },
        "id": "LlVuCjm3GvoW",
        "outputId": "3cf391ed-4ee0-4fc7-fe5f-f3930260c19e"
      },
      "execution_count": null,
      "outputs": [
        {
          "output_type": "display_data",
          "data": {
            "text/plain": [
              "<Figure size 432x288 with 1 Axes>"
            ],
            "image/png": "[encoded data removed]"
          },
          "metadata": {
            "needs_background": "light"
          }
        }
      ]
    },
    {
      "cell_type": "code",
      "source": [
        "#  Training and Validation Accuracy\n",
        "plt.plot(epochs_size, accu, 'b', label='Training Accuracy')\n",
        "plt.plot(epochs_size, val_accu, 'r', label='Validation Accuracy')\n",
        "plt.title('Training and Validation Accuracy')\n",
        "plt.xlabel('Epochs')\n",
        "plt.ylabel('Accuracy')\n",
        "plt.legend()\n",
        "plt.show()"
      ],
      "metadata": {
        "colab": {
          "base_uri": "https://localhost:8080/",
          "height": 295
        },
        "id": "CmVgstV3Gvri",
        "outputId": "8b36901a-f203-4cc9-cf0e-913a937966ae"
      },
      "execution_count": null,
      "outputs": [
        {
          "output_type": "display_data",
          "data": {
            "text/plain": [
              "<Figure size 432x288 with 1 Axes>"
            ],
            "image/png": "[encoded data removed]"
          },
          "metadata": {
            "needs_background": "light"
          }
        }
      ]
    },
    {
      "cell_type": "code",
      "source": [
        "# Prediction on test data\n",
        "y_pred = model.predict(x_test)\n",
        "y_pred[0]"
      ],
      "metadata": {
        "colab": {
          "base_uri": "https://localhost:8080/"
        },
        "id": "KGt-ho3YGvtq",
        "outputId": "d0f274ab-dabd-442a-e2cb-d66ba50055fc"
      },
      "execution_count": null,
      "outputs": [
        {
          "output_type": "stream",
          "name": "stdout",
          "text": [
            "33/33 [==============================] - 0s 3ms/step\n"
          ]
        },
        {
          "output_type": "execute_result",
          "data": {
            "text/plain": [
              "array([2.2925237e-02, 3.5048451e-02, 9.5501365e-03, 9.3112433e-01,\n",
              "       1.0582895e-03, 2.4249197e-04, 5.1102135e-05], dtype=float32)"
            ]
          },
          "metadata": {},
          "execution_count": 61
        }
      ]
    },
    {
      "cell_type": "code",
      "source": [
        "# Convert predictions classes to one hot vectors\n",
        "y_pred_classes = np.argmax(y_pred, axis=1) # get the index of the class which has max prediction of all data"
      ],
      "metadata": {
        "id": "GrtxCzxbHC3P"
      },
      "execution_count": null,
      "outputs": []
    },
    {
      "cell_type": "code",
      "source": [
        "len(y_pred_classes)"
      ],
      "metadata": {
        "colab": {
          "base_uri": "https://localhost:8080/"
        },
        "id": "pmBOcW5bHC61",
        "outputId": "d8b9a8c9-78cd-4657-8ac4-bb966c2506e7"
      },
      "execution_count": null,
      "outputs": [
        {
          "output_type": "execute_result",
          "data": {
            "text/plain": [
              "1050"
            ]
          },
          "metadata": {},
          "execution_count": 63
        }
      ]
    },
    {
      "cell_type": "code",
      "source": [
        "# Convert test data to one hot vectors\n",
        "y_true = np.argmax(y_test, axis = 1) # get the index of the true label of all data."
      ],
      "metadata": {
        "id": "e4t7aXn6HC-Z"
      },
      "execution_count": null,
      "outputs": []
    },
    {
      "cell_type": "code",
      "source": [
        "len(y_true)"
      ],
      "metadata": {
        "colab": {
          "base_uri": "https://localhost:8080/"
        },
        "id": "uyqvcxbRHDCD",
        "outputId": "7d88d5c9-fd98-42d8-c388-788848048331"
      },
      "execution_count": null,
      "outputs": [
        {
          "output_type": "execute_result",
          "data": {
            "text/plain": [
              "1050"
            ]
          },
          "metadata": {},
          "execution_count": 65
        }
      ]
    },
    {
      "cell_type": "code",
      "source": [
        "# Now print Confusion Matrix\n",
        "cm = confusion_matrix(y_true, y_pred_classes)\n",
        "cm"
      ],
      "metadata": {
        "colab": {
          "base_uri": "https://localhost:8080/"
        },
        "id": "kV-bvKDQHDIz",
        "outputId": "f470024d-e544-4243-e6e4-9e2c2a2419b3"
      },
      "execution_count": null,
      "outputs": [
        {
          "output_type": "execute_result",
          "data": {
            "text/plain": [
              "array([[134,  12,  24,   2,   2,   1,   0],\n",
              "       [ 10, 111,  16,   4,   4,   5,   3],\n",
              "       [  7,   7, 104,   1,  17,  11,   0],\n",
              "       [  0,   7,   1, 142,   0,   0,   0],\n",
              "       [  5,  10,  17,   0,  83,  18,   0],\n",
              "       [  0,   8,  12,   0,  25,  91,   0],\n",
              "       [  0,   0,   0,   0,   2,   1, 153]])"
            ]
          },
          "metadata": {},
          "execution_count": 66
        }
      ]
    },
    {
      "cell_type": "code",
      "source": [
        "fig, ax = plt.subplots(figsize=(10,10))\n",
        "sns.set(font_scale=1.2)\n",
        "sns.heatmap(cm, annot=True, linewidths=1, ax=ax)"
      ],
      "metadata": {
        "colab": {
          "base_uri": "https://localhost:8080/",
          "height": 609
        },
        "id": "fBTbAOl_HDMc",
        "outputId": "b51f3935-2cc3-46b0-88b9-349ca5529023"
      },
      "execution_count": null,
      "outputs": [
        {
          "output_type": "execute_result",
          "data": {
            "text/plain": [
              "<matplotlib.axes._subplots.AxesSubplot at 0x7f6dc022fa90>"
            ]
          },
          "metadata": {},
          "execution_count": 67
        },
        {
          "output_type": "display_data",
          "data": {
            "text/plain": [
              "<Figure size 720x720 with 2 Axes>"
            ],
            "image/png": "[encoded data removed]"
          },
          "metadata": {
            "needs_background": "light"
          }
        }
      ]
    },
    {
      "cell_type": "code",
      "source": [
        "np.diag(cm)"
      ],
      "metadata": {
        "id": "RudwR8gOS3WL",
        "outputId": "1296101d-5975-4a0e-aa11-ac12704aee4c",
        "colab": {
          "base_uri": "https://localhost:8080/"
        }
      },
      "execution_count": null,
      "outputs": [
        {
          "output_type": "execute_result",
          "data": {
            "text/plain": [
              "array([134, 111, 104, 142,  83,  91, 153])"
            ]
          },
          "metadata": {},
          "execution_count": 70
        }
      ]
    },
    {
      "cell_type": "code",
      "source": [
        "np.sum(cm, axis=1)"
      ],
      "metadata": {
        "id": "RFbHbIlaS8KG",
        "outputId": "1f1770f5-9025-4ab2-c33e-f97d25840c97",
        "colab": {
          "base_uri": "https://localhost:8080/"
        }
      },
      "execution_count": null,
      "outputs": [
        {
          "output_type": "execute_result",
          "data": {
            "text/plain": [
              "array([175, 153, 147, 150, 133, 136, 156])"
            ]
          },
          "metadata": {},
          "execution_count": 71
        }
      ]
    },
    {
      "cell_type": "code",
      "source": [
        "#Plot fractional incorrect misclassifications\n",
        "incorr_fraction = 1 - np.diag(cm) / np.sum(cm, axis=1)\n",
        "plt.bar(np.arange(7), incorr_fraction)\n",
        "plt.xlabel('True Label')\n",
        "plt.ylabel('Fraction of incorrect predictions')\n",
        "plt.show()\n",
        "\n",
        "# %age of incorrect classification."
      ],
      "metadata": {
        "colab": {
          "base_uri": "https://localhost:8080/",
          "height": 294
        },
        "id": "K7ES3yLSHM4t",
        "outputId": "15dd9027-bcc1-493a-8713-d34dc3d4009f"
      },
      "execution_count": null,
      "outputs": [
        {
          "output_type": "display_data",
          "data": {
            "text/plain": [
              "<Figure size 432x288 with 1 Axes>"
            ],
            "image/png": "[encoded data removed]"
          },
          "metadata": {}
        }
      ]
    },
    {
      "cell_type": "code",
      "source": [],
      "metadata": {
        "id": "n_1heq8EO13T"
      },
      "execution_count": null,
      "outputs": []
    }
  ]
}